{
 "cells": [
  {
   "cell_type": "code",
   "id": "initial_id",
   "metadata": {
    "collapsed": true,
    "ExecuteTime": {
     "end_time": "2024-07-26T02:29:10.903068Z",
     "start_time": "2024-07-26T02:29:10.077497Z"
    }
   },
   "source": [
    "import pandas as pd\n",
    "import matplotlib.pyplot as plt"
   ],
   "outputs": [],
   "execution_count": 2
  },
  {
   "metadata": {
    "ExecuteTime": {
     "end_time": "2024-07-26T02:35:30.971353Z",
     "start_time": "2024-07-26T02:35:29.749925Z"
    }
   },
   "cell_type": "code",
   "source": [
    "dish_df = pd.read_csv('../Cleaned Data Files/Dish-cleaned.csv')\n",
    "menu_df = pd.read_csv('../Cleaned Data Files/Menu-cleaned.csv')\n",
    "menu_item_df = pd.read_csv('../Cleaned Data Files/MenuItem-cleaned.csv')\n",
    "menu_page_df = pd.read_csv('../Cleaned Data Files/MenuPage-cleaned.csv')"
   ],
   "id": "5b3df2dbc836620",
   "outputs": [],
   "execution_count": 24
  },
  {
   "metadata": {},
   "cell_type": "markdown",
   "source": "Dish Table Validation",
   "id": "739c6305486ddeef"
  },
  {
   "metadata": {},
   "cell_type": "markdown",
   "source": "1. Description table should be removed.",
   "id": "697cdd0a7ed411fb"
  },
  {
   "metadata": {
    "ExecuteTime": {
     "end_time": "2024-07-26T02:29:11.177388Z",
     "start_time": "2024-07-26T02:29:11.174053Z"
    }
   },
   "cell_type": "code",
   "source": "dish_df.columns == 'Description'",
   "id": "ddd7b37e4754a6ea",
   "outputs": [
    {
     "data": {
      "text/plain": [
       "array([False, False, False, False, False, False, False, False])"
      ]
     },
     "execution_count": 4,
     "metadata": {},
     "output_type": "execute_result"
    }
   ],
   "execution_count": 4
  },
  {
   "metadata": {},
   "cell_type": "markdown",
   "source": "2. Lowest_price and Highest_price columns each have ~6.87% missing values.",
   "id": "96e38a945bff34c7"
  },
  {
   "metadata": {
    "ExecuteTime": {
     "end_time": "2024-07-26T02:29:11.182667Z",
     "start_time": "2024-07-26T02:29:11.178656Z"
    }
   },
   "cell_type": "code",
   "source": "dish_df['lowest_price'].isnull().sum()",
   "id": "111e116344a9850a",
   "outputs": [
    {
     "data": {
      "text/plain": [
       "0"
      ]
     },
     "execution_count": 5,
     "metadata": {},
     "output_type": "execute_result"
    }
   ],
   "execution_count": 5
  },
  {
   "metadata": {
    "ExecuteTime": {
     "end_time": "2024-07-26T02:29:11.185736Z",
     "start_time": "2024-07-26T02:29:11.183256Z"
    }
   },
   "cell_type": "code",
   "source": "dish_df['lowest_price'].isna().sum()",
   "id": "c0d81ae9e259df5b",
   "outputs": [
    {
     "data": {
      "text/plain": [
       "0"
      ]
     },
     "execution_count": 6,
     "metadata": {},
     "output_type": "execute_result"
    }
   ],
   "execution_count": 6
  },
  {
   "metadata": {
    "ExecuteTime": {
     "end_time": "2024-07-26T02:29:11.189060Z",
     "start_time": "2024-07-26T02:29:11.186388Z"
    }
   },
   "cell_type": "code",
   "source": "dish_df['highest_price'].isna().sum()",
   "id": "975358e56a02cb6d",
   "outputs": [
    {
     "data": {
      "text/plain": [
       "0"
      ]
     },
     "execution_count": 7,
     "metadata": {},
     "output_type": "execute_result"
    }
   ],
   "execution_count": 7
  },
  {
   "metadata": {
    "ExecuteTime": {
     "end_time": "2024-07-26T02:29:11.192624Z",
     "start_time": "2024-07-26T02:29:11.189776Z"
    }
   },
   "cell_type": "code",
   "source": "dish_df['highest_price'].isna().sum()",
   "id": "2a0bf8c90a04f2c0",
   "outputs": [
    {
     "data": {
      "text/plain": [
       "0"
      ]
     },
     "execution_count": 8,
     "metadata": {},
     "output_type": "execute_result"
    }
   ],
   "execution_count": 8
  },
  {
   "metadata": {},
   "cell_type": "markdown",
   "source": "3. Menus_appeared and Times_appeared columns have numerous outliers",
   "id": "e73385360c129afa"
  },
  {
   "metadata": {
    "ExecuteTime": {
     "end_time": "2024-07-26T02:29:11.196846Z",
     "start_time": "2024-07-26T02:29:11.193246Z"
    }
   },
   "cell_type": "code",
   "source": "dish_df.loc[dish_df['menus_appeared'] > 1000, 'name']",
   "id": "f523aaed67d9bc81",
   "outputs": [
    {
     "data": {
      "text/plain": [
       "52                  \"Oranges\"\n",
       "66            Potatoes Mashed\n",
       "76                  Ice Cream\n",
       "77                        Tea\n",
       "78                       Milk\n",
       "89              STEWED PRUNES\n",
       "92                     Apples\n",
       "94            Stewed Tomatoes\n",
       "175           *Assorted Cakes\n",
       "179             Lobster salad\n",
       "180              Potato salad\n",
       "181             Chicken Salad\n",
       "183           Boiled Potatoes\n",
       "195                 Chocolate\n",
       "196                ROAST BEEF\n",
       "232                     Cocoa\n",
       "317                Green Peas\n",
       "669         Potatoes -- Baked\n",
       "771            *Lettuce salad\n",
       "864                   *Olives\n",
       "942     French Fried Potatoes\n",
       "967          Roquefort Cheese\n",
       "969           AMERICAN CHEESE\n",
       "982                 ROQUEFORT\n",
       "987                 Camembert\n",
       "1213              *Lima Beans\n",
       "1344                Cucumbers\n",
       "1857             Swiss Cheese\n",
       "1908                Apple Pie\n",
       "3092        Vanilla Ice Cream\n",
       "3639      Chocolate Ice Cream\n",
       "4357              Edam Cheese\n",
       "6155                   Cigars\n",
       "Name: name, dtype: object"
      ]
     },
     "execution_count": 9,
     "metadata": {},
     "output_type": "execute_result"
    }
   ],
   "execution_count": 9
  },
  {
   "metadata": {
    "ExecuteTime": {
     "end_time": "2024-07-26T02:29:11.201003Z",
     "start_time": "2024-07-26T02:29:11.197737Z"
    }
   },
   "cell_type": "code",
   "source": "dish_df.loc[dish_df['times_appeared'] > 1000, 'name']",
   "id": "bd9f82044d1d2ccd",
   "outputs": [
    {
     "data": {
      "text/plain": [
       "52                    \"Oranges\"\n",
       "66              Potatoes Mashed\n",
       "76                    Ice Cream\n",
       "77                          Tea\n",
       "78                         Milk\n",
       "89                STEWED PRUNES\n",
       "92                       Apples\n",
       "94              Stewed Tomatoes\n",
       "124           Little Neck Clams\n",
       "175             *Assorted Cakes\n",
       "179               Lobster salad\n",
       "180                Potato salad\n",
       "181               Chicken Salad\n",
       "183             Boiled Potatoes\n",
       "195                   Chocolate\n",
       "196                  ROAST BEEF\n",
       "232                       Cocoa\n",
       "317                  Green Peas\n",
       "362                Cream Cheese\n",
       "669           Potatoes -- Baked\n",
       "771              *Lettuce salad\n",
       "864                     *Olives\n",
       "942       French Fried Potatoes\n",
       "967            Roquefort Cheese\n",
       "969             AMERICAN CHEESE\n",
       "982                   ROQUEFORT\n",
       "987                   Camembert\n",
       "1213                *Lima Beans\n",
       "1227                    Spinach\n",
       "1344                  Cucumbers\n",
       "1857               Swiss Cheese\n",
       "1908                  Apple Pie\n",
       "2999                Demi  tasse\n",
       "3092          Vanilla Ice Cream\n",
       "3639        Chocolate Ice Cream\n",
       "4357                Edam Cheese\n",
       "6155                     Cigars\n",
       "102251            *Tomato juice\n",
       "Name: name, dtype: object"
      ]
     },
     "execution_count": 10,
     "metadata": {},
     "output_type": "execute_result"
    }
   ],
   "execution_count": 10
  },
  {
   "metadata": {},
   "cell_type": "markdown",
   "source": "4. First_appeared and Last_appeared columns have some outliers that are invalid years.",
   "id": "8487d81987b66bba"
  },
  {
   "metadata": {
    "ExecuteTime": {
     "end_time": "2024-07-26T02:29:11.225159Z",
     "start_time": "2024-07-26T02:29:11.202934Z"
    }
   },
   "cell_type": "code",
   "source": "dish_df['first_appeared'].min(), dish_df['first_appeared'].max()",
   "id": "add50ff47dbbfad",
   "outputs": [
    {
     "data": {
      "text/plain": [
       "('1851-01-01', '2012-01-01')"
      ]
     },
     "execution_count": 11,
     "metadata": {},
     "output_type": "execute_result"
    }
   ],
   "execution_count": 11
  },
  {
   "metadata": {
    "ExecuteTime": {
     "end_time": "2024-07-26T02:29:11.248846Z",
     "start_time": "2024-07-26T02:29:11.225820Z"
    }
   },
   "cell_type": "code",
   "source": "dish_df['last_appeared'].min(), dish_df['last_appeared'].max()",
   "id": "49d8966d5d59e7aa",
   "outputs": [
    {
     "data": {
      "text/plain": [
       "('1851-01-01', '2012-01-01')"
      ]
     },
     "execution_count": 12,
     "metadata": {},
     "output_type": "execute_result"
    }
   ],
   "execution_count": 12
  },
  {
   "metadata": {},
   "cell_type": "markdown",
   "source": "5. First_appeared and Last_appeared columns are recognized as integers in DataGrip, text in OpenRefine, and int64 in Pandas.",
   "id": "21bca4ef61dd88b2"
  },
  {
   "metadata": {
    "ExecuteTime": {
     "end_time": "2024-07-26T02:29:11.252380Z",
     "start_time": "2024-07-26T02:29:11.249597Z"
    }
   },
   "cell_type": "code",
   "source": "dish_df['first_appeared'].head(1)",
   "id": "ca3ad934d0b8c34e",
   "outputs": [
    {
     "data": {
      "text/plain": [
       "0    1897-01-01\n",
       "Name: first_appeared, dtype: object"
      ]
     },
     "execution_count": 13,
     "metadata": {},
     "output_type": "execute_result"
    }
   ],
   "execution_count": 13
  },
  {
   "metadata": {
    "ExecuteTime": {
     "end_time": "2024-07-26T02:29:11.255959Z",
     "start_time": "2024-07-26T02:29:11.253215Z"
    }
   },
   "cell_type": "code",
   "source": "dish_df['last_appeared'].head(1)",
   "id": "e35c89bcadb96e2c",
   "outputs": [
    {
     "data": {
      "text/plain": [
       "0    1927-01-01\n",
       "Name: last_appeared, dtype: object"
      ]
     },
     "execution_count": 14,
     "metadata": {},
     "output_type": "execute_result"
    }
   ],
   "execution_count": 14
  },
  {
   "metadata": {
    "ExecuteTime": {
     "end_time": "2024-07-26T02:29:11.259410Z",
     "start_time": "2024-07-26T02:29:11.256774Z"
    }
   },
   "cell_type": "code",
   "source": "dish_df.dtypes",
   "id": "a9fcd097a2bb398c",
   "outputs": [
    {
     "data": {
      "text/plain": [
       "id                  int64\n",
       "name               object\n",
       "menus_appeared      int64\n",
       "times_appeared      int64\n",
       "first_appeared     object\n",
       "last_appeared      object\n",
       "lowest_price      float64\n",
       "highest_price     float64\n",
       "dtype: object"
      ]
     },
     "execution_count": 15,
     "metadata": {},
     "output_type": "execute_result"
    }
   ],
   "execution_count": 15
  },
  {
   "metadata": {},
   "cell_type": "markdown",
   "source": "6. Lowest_price and Highest_price columns have unusually low price quartiles and some outliers.",
   "id": "3a440c411263bcd6"
  },
  {
   "metadata": {
    "ExecuteTime": {
     "end_time": "2024-07-26T02:29:11.263472Z",
     "start_time": "2024-07-26T02:29:11.260345Z"
    }
   },
   "cell_type": "code",
   "source": "dish_df['lowest_price'].min(), dish_df['lowest_price'].max()",
   "id": "4f8205dd3f8d8c74",
   "outputs": [
    {
     "data": {
      "text/plain": [
       "(0.0, 800.0)"
      ]
     },
     "execution_count": 16,
     "metadata": {},
     "output_type": "execute_result"
    }
   ],
   "execution_count": 16
  },
  {
   "metadata": {
    "ExecuteTime": {
     "end_time": "2024-07-26T02:29:11.267358Z",
     "start_time": "2024-07-26T02:29:11.264233Z"
    }
   },
   "cell_type": "code",
   "source": "dish_df['highest_price'].min(), dish_df['highest_price'].max()",
   "id": "5aabfcf4882ce4c6",
   "outputs": [
    {
     "data": {
      "text/plain": [
       "(0.0, 3050.0)"
      ]
     },
     "execution_count": 17,
     "metadata": {},
     "output_type": "execute_result"
    }
   ],
   "execution_count": 17
  },
  {
   "metadata": {
    "ExecuteTime": {
     "end_time": "2024-07-26T02:29:11.286362Z",
     "start_time": "2024-07-26T02:29:11.267918Z"
    }
   },
   "cell_type": "code",
   "source": "dish_df.loc[dish_df['lowest_price'] == 0].shape[0], dish_df.loc[dish_df['highest_price'] == 0].shape[0]",
   "id": "cab0d4d0937e60ec",
   "outputs": [
    {
     "data": {
      "text/plain": [
       "(171794, 167401)"
      ]
     },
     "execution_count": 18,
     "metadata": {},
     "output_type": "execute_result"
    }
   ],
   "execution_count": 18
  },
  {
   "metadata": {},
   "cell_type": "markdown",
   "source": "Menu Table Validation",
   "id": "c5a31ebbc5073214"
  },
  {
   "metadata": {},
   "cell_type": "markdown",
   "source": "1. Keywords, Language, and Location_type columns should be removed.",
   "id": "42bd48a83aa0ecff"
  },
  {
   "metadata": {
    "ExecuteTime": {
     "end_time": "2024-07-26T02:29:11.289644Z",
     "start_time": "2024-07-26T02:29:11.287110Z"
    }
   },
   "cell_type": "code",
   "source": "'keywords' in menu_df.columns, 'language' in menu_df.columns, 'location_type' in menu_df.columns",
   "id": "b70cf619194c056c",
   "outputs": [
    {
     "data": {
      "text/plain": [
       "(False, False, False)"
      ]
     },
     "execution_count": 19,
     "metadata": {},
     "output_type": "execute_result"
    }
   ],
   "execution_count": 19
  },
  {
   "metadata": {},
   "cell_type": "markdown",
   "source": "2. Name, Sponsor, Event, Venue, Place, Physical_Description, Occasion, Notes, Call_Number, Date, Currency, and Currency_Symbol each have ~3.34% to ~81.78% of missing values.",
   "id": "bbda52b9cd7acce4"
  },
  {
   "metadata": {
    "ExecuteTime": {
     "end_time": "2024-07-26T02:29:11.297323Z",
     "start_time": "2024-07-26T02:29:11.290224Z"
    }
   },
   "cell_type": "code",
   "source": [
    "missing_percentage = (menu_df.isnull().sum() / len(menu_df)) * 100\n",
    "missing_percentage.name = 'Percentage of Missing Values'\n",
    "missing_percentage"
   ],
   "id": "9f10f9147e982b5c",
   "outputs": [
    {
     "data": {
      "text/plain": [
       "id                       0.000000\n",
       "name                    79.254352\n",
       "sponsor                  0.000000\n",
       "event                   48.616524\n",
       "venue                   50.500130\n",
       "place                   50.350740\n",
       "physical_description     7.859184\n",
       "occasion                75.480644\n",
       "notes                   34.612886\n",
       "call_number              0.006495\n",
       "date                     0.000000\n",
       "location                 0.000000\n",
       "status                   0.000000\n",
       "page_count               0.000000\n",
       "dish_count               0.000000\n",
       "Name: Percentage of Missing Values, dtype: float64"
      ]
     },
     "execution_count": 20,
     "metadata": {},
     "output_type": "execute_result"
    }
   ],
   "execution_count": 20
  },
  {
   "metadata": {},
   "cell_type": "markdown",
   "source": "3. Date has values that are outside to what we consider the correct range of date (1800-2021) it should be. ",
   "id": "6964bebc6e42a137"
  },
  {
   "metadata": {
    "ExecuteTime": {
     "end_time": "2024-07-26T02:29:11.301622Z",
     "start_time": "2024-07-26T02:29:11.298115Z"
    }
   },
   "cell_type": "code",
   "source": "menu_df.date.min(), menu_df.date.max()",
   "id": "46e391117a980e6c",
   "outputs": [
    {
     "data": {
      "text/plain": [
       "('1851-01-01', '2015-04-20')"
      ]
     },
     "execution_count": 21,
     "metadata": {},
     "output_type": "execute_result"
    }
   ],
   "execution_count": 21
  },
  {
   "metadata": {},
   "cell_type": "markdown",
   "source": "Menu Item Table",
   "id": "16b58f4562f64f30"
  },
  {
   "metadata": {},
   "cell_type": "markdown",
   "source": "1. Price and High_Price each have ~33.46% to ~93.1% missing values.",
   "id": "890d0ea9835feb0f"
  },
  {
   "metadata": {},
   "cell_type": "code",
   "outputs": [
    {
     "data": {
      "text/plain": [
       "(312822, 312822)"
      ]
     },
     "execution_count": 25,
     "metadata": {},
     "output_type": "execute_result"
    }
   ],
   "execution_count": 25,
   "source": "menu_item_df['price'].isnull().sum(), menu_item_df['price'].isna().sum()",
   "id": "f2a80ea95f5b1197"
  },
  {
   "metadata": {
    "ExecuteTime": {
     "end_time": "2024-07-26T02:46:38.515250Z",
     "start_time": "2024-07-26T02:46:38.507029Z"
    }
   },
   "cell_type": "code",
   "source": "menu_item_df['high_price'].isnull().sum(), menu_item_df['high_price'].isna().sum()",
   "id": "1e9330210b30acb2",
   "outputs": [
    {
     "data": {
      "text/plain": [
       "(963073, 963073)"
      ]
     },
     "execution_count": 26,
     "metadata": {},
     "output_type": "execute_result"
    }
   ],
   "execution_count": 26
  },
  {
   "metadata": {},
   "cell_type": "markdown",
   "source": "2. Dish_Id has 0.01% of missing values.",
   "id": "8d5f5e5c1608ce5b"
  },
  {
   "metadata": {
    "ExecuteTime": {
     "end_time": "2024-07-26T02:54:10.248006Z",
     "start_time": "2024-07-26T02:54:10.240183Z"
    }
   },
   "cell_type": "code",
   "source": "menu_item_df['dish_id'].isnull().sum(), menu_item_df['dish_id'].isna().sum()",
   "id": "38801e160b21c802",
   "outputs": [
    {
     "data": {
      "text/plain": [
       "(0, 0)"
      ]
     },
     "execution_count": 27,
     "metadata": {},
     "output_type": "execute_result"
    }
   ],
   "execution_count": 27
  },
  {
   "metadata": {},
   "cell_type": "markdown",
   "source": "Menu Page Table",
   "id": "b50b49074770f1e7"
  },
  {
   "metadata": {},
   "cell_type": "markdown",
   "source": "1. Page_Number has 1.8% missing values.",
   "id": "1c4d746a97edf6ca"
  },
  {
   "metadata": {
    "ExecuteTime": {
     "end_time": "2024-07-26T02:57:29.602353Z",
     "start_time": "2024-07-26T02:57:29.597451Z"
    }
   },
   "cell_type": "code",
   "source": "menu_page_df['page_number'].isnull().sum(), menu_page_df['page_number'].isna().sum()",
   "id": "63772a3a9cd300ac",
   "outputs": [
    {
     "data": {
      "text/plain": [
       "(878, 878)"
      ]
     },
     "execution_count": 28,
     "metadata": {},
     "output_type": "execute_result"
    }
   ],
   "execution_count": 28
  },
  {
   "metadata": {},
   "cell_type": "markdown",
   "source": "2. Image_Id column is impossible to match to an actual image from the NYPL website.",
   "id": "e636e587e7a3f482"
  },
  {
   "metadata": {
    "ExecuteTime": {
     "end_time": "2024-07-26T02:58:45.793327Z",
     "start_time": "2024-07-26T02:58:45.788598Z"
    }
   },
   "cell_type": "code",
   "source": "menu_page_df['image_id'].isnull().sum(), menu_page_df['image_id'].isna().sum()",
   "id": "2ab4e76455569864",
   "outputs": [
    {
     "data": {
      "text/plain": [
       "(0, 0)"
      ]
     },
     "execution_count": 31,
     "metadata": {},
     "output_type": "execute_result"
    }
   ],
   "execution_count": 31
  }
 ],
 "metadata": {
  "kernelspec": {
   "display_name": "Python 3",
   "language": "python",
   "name": "python3"
  },
  "language_info": {
   "codemirror_mode": {
    "name": "ipython",
    "version": 2
   },
   "file_extension": ".py",
   "mimetype": "text/x-python",
   "name": "python",
   "nbconvert_exporter": "python",
   "pygments_lexer": "ipython2",
   "version": "2.7.6"
  }
 },
 "nbformat": 4,
 "nbformat_minor": 5
}
