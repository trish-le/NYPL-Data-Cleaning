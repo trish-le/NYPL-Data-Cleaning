{
 "cells": [
  {
   "cell_type": "code",
   "id": "initial_id",
   "metadata": {
    "collapsed": true,
    "ExecuteTime": {
     "end_time": "2024-07-26T03:17:09.292664Z",
     "start_time": "2024-07-26T03:17:08.322317Z"
    }
   },
   "source": [
    "import pandas as pd\n",
    "import matplotlib.pyplot as plt"
   ],
   "outputs": [],
   "execution_count": 1
  },
  {
   "metadata": {
    "ExecuteTime": {
     "end_time": "2024-07-26T03:17:11.031470Z",
     "start_time": "2024-07-26T03:17:09.294107Z"
    }
   },
   "cell_type": "code",
   "source": [
    "dish_df = pd.read_csv('../Cleaned Data Files/Dish-cleaned.csv')\n",
    "menu_df = pd.read_csv('../Cleaned Data Files/Menu-cleaned.csv')\n",
    "menu_item_df = pd.read_csv('../Cleaned Data Files/MenuItem-cleaned.csv')\n",
    "menu_page_df = pd.read_csv('../Cleaned Data Files/MenuPage-cleaned.csv')"
   ],
   "id": "5b3df2dbc836620",
   "outputs": [],
   "execution_count": 2
  },
  {
   "metadata": {},
   "cell_type": "markdown",
   "source": [
    "Dish Table Validation"
   ],
   "id": "739c6305486ddeef"
  },
  {
   "metadata": {},
   "cell_type": "markdown",
   "source": [
    "1. Description table should be removed."
   ],
   "id": "697cdd0a7ed411fb"
  },
  {
   "metadata": {
    "ExecuteTime": {
     "end_time": "2024-07-26T03:17:11.039928Z",
     "start_time": "2024-07-26T03:17:11.033293Z"
    }
   },
   "cell_type": "code",
   "source": [
    "dish_df.columns == 'Description'"
   ],
   "id": "ddd7b37e4754a6ea",
   "outputs": [
    {
     "data": {
      "text/plain": "array([False, False, False, False, False, False, False, False])"
     },
     "execution_count": 3,
     "metadata": {},
     "output_type": "execute_result"
    }
   ],
   "execution_count": 3
  },
  {
   "metadata": {},
   "cell_type": "markdown",
   "source": [
    "2. Lowest_price and Highest_price columns each have ~6.87% missing values."
   ],
   "id": "96e38a945bff34c7"
  },
  {
   "metadata": {
    "ExecuteTime": {
     "end_time": "2024-07-26T03:17:11.058803Z",
     "start_time": "2024-07-26T03:17:11.037854Z"
    }
   },
   "cell_type": "code",
   "source": [
    "dish_df['lowest_price'].isnull().sum()"
   ],
   "id": "111e116344a9850a",
   "outputs": [
    {
     "data": {
      "text/plain": "0"
     },
     "execution_count": 4,
     "metadata": {},
     "output_type": "execute_result"
    }
   ],
   "execution_count": 4
  },
  {
   "metadata": {
    "ExecuteTime": {
     "end_time": "2024-07-26T03:17:11.059790Z",
     "start_time": "2024-07-26T03:17:11.042544Z"
    }
   },
   "cell_type": "code",
   "source": [
    "dish_df['lowest_price'].isna().sum()"
   ],
   "id": "c0d81ae9e259df5b",
   "outputs": [
    {
     "data": {
      "text/plain": "0"
     },
     "execution_count": 5,
     "metadata": {},
     "output_type": "execute_result"
    }
   ],
   "execution_count": 5
  },
  {
   "metadata": {
    "ExecuteTime": {
     "end_time": "2024-07-26T03:17:11.114083Z",
     "start_time": "2024-07-26T03:17:11.048928Z"
    }
   },
   "cell_type": "code",
   "source": [
    "dish_df['highest_price'].isna().sum()"
   ],
   "id": "975358e56a02cb6d",
   "outputs": [
    {
     "data": {
      "text/plain": "0"
     },
     "execution_count": 6,
     "metadata": {},
     "output_type": "execute_result"
    }
   ],
   "execution_count": 6
  },
  {
   "metadata": {
    "ExecuteTime": {
     "end_time": "2024-07-26T03:17:11.141102Z",
     "start_time": "2024-07-26T03:17:11.056725Z"
    }
   },
   "cell_type": "code",
   "source": [
    "dish_df['highest_price'].isna().sum()"
   ],
   "id": "2a0bf8c90a04f2c0",
   "outputs": [
    {
     "data": {
      "text/plain": "0"
     },
     "execution_count": 7,
     "metadata": {},
     "output_type": "execute_result"
    }
   ],
   "execution_count": 7
  },
  {
   "metadata": {},
   "cell_type": "markdown",
   "source": [
    "3. Menus_appeared and Times_appeared columns have numerous outliers"
   ],
   "id": "e73385360c129afa"
  },
  {
   "metadata": {
    "ExecuteTime": {
     "end_time": "2024-07-26T03:17:11.154542Z",
     "start_time": "2024-07-26T03:17:11.061516Z"
    }
   },
   "cell_type": "code",
   "source": [
    "dish_df.loc[dish_df['menus_appeared'] > 1000, 'name']"
   ],
   "id": "f523aaed67d9bc81",
   "outputs": [
    {
     "data": {
      "text/plain": "52                  \"Oranges\"\n66            Potatoes Mashed\n76                  Ice Cream\n77                        Tea\n78                       Milk\n89              STEWED PRUNES\n92                     Apples\n94            Stewed Tomatoes\n175           *Assorted Cakes\n179             Lobster salad\n180              Potato salad\n181             Chicken Salad\n183           Boiled Potatoes\n195                 Chocolate\n196                ROAST BEEF\n232                     Cocoa\n317                Green Peas\n669         Potatoes -- Baked\n771            *Lettuce salad\n864                   *Olives\n942     French Fried Potatoes\n967          Roquefort Cheese\n969           AMERICAN CHEESE\n982                 ROQUEFORT\n987                 Camembert\n1213              *Lima Beans\n1344                Cucumbers\n1857             Swiss Cheese\n1908                Apple Pie\n3092        Vanilla Ice Cream\n3639      Chocolate Ice Cream\n4357              Edam Cheese\n6155                   Cigars\nName: name, dtype: object"
     },
     "execution_count": 8,
     "metadata": {},
     "output_type": "execute_result"
    }
   ],
   "execution_count": 8
  },
  {
   "metadata": {
    "ExecuteTime": {
     "end_time": "2024-07-26T03:17:11.155255Z",
     "start_time": "2024-07-26T03:17:11.068800Z"
    }
   },
   "cell_type": "code",
   "source": [
    "dish_df.loc[dish_df['times_appeared'] > 1000, 'name']"
   ],
   "id": "bd9f82044d1d2ccd",
   "outputs": [
    {
     "data": {
      "text/plain": "52                    \"Oranges\"\n66              Potatoes Mashed\n76                    Ice Cream\n77                          Tea\n78                         Milk\n89                STEWED PRUNES\n92                       Apples\n94              Stewed Tomatoes\n124           Little Neck Clams\n175             *Assorted Cakes\n179               Lobster salad\n180                Potato salad\n181               Chicken Salad\n183             Boiled Potatoes\n195                   Chocolate\n196                  ROAST BEEF\n232                       Cocoa\n317                  Green Peas\n362                Cream Cheese\n669           Potatoes -- Baked\n771              *Lettuce salad\n864                     *Olives\n942       French Fried Potatoes\n967            Roquefort Cheese\n969             AMERICAN CHEESE\n982                   ROQUEFORT\n987                   Camembert\n1213                *Lima Beans\n1227                    Spinach\n1344                  Cucumbers\n1857               Swiss Cheese\n1908                  Apple Pie\n2999                Demi  tasse\n3092          Vanilla Ice Cream\n3639        Chocolate Ice Cream\n4357                Edam Cheese\n6155                     Cigars\n102251            *Tomato juice\nName: name, dtype: object"
     },
     "execution_count": 9,
     "metadata": {},
     "output_type": "execute_result"
    }
   ],
   "execution_count": 9
  },
  {
   "metadata": {},
   "cell_type": "markdown",
   "source": [
    "4. First_appeared and Last_appeared columns have some outliers that are invalid years."
   ],
   "id": "8487d81987b66bba"
  },
  {
   "metadata": {
    "ExecuteTime": {
     "end_time": "2024-07-26T03:17:11.175022Z",
     "start_time": "2024-07-26T03:17:11.087528Z"
    }
   },
   "cell_type": "code",
   "source": [
    "dish_df['first_appeared'].min(), dish_df['first_appeared'].max()"
   ],
   "id": "add50ff47dbbfad",
   "outputs": [
    {
     "data": {
      "text/plain": "('1851-01-01', '2012-01-01')"
     },
     "execution_count": 10,
     "metadata": {},
     "output_type": "execute_result"
    }
   ],
   "execution_count": 10
  },
  {
   "metadata": {
    "ExecuteTime": {
     "end_time": "2024-07-26T03:17:11.264047Z",
     "start_time": "2024-07-26T03:17:11.120612Z"
    }
   },
   "cell_type": "code",
   "source": [
    "dish_df['last_appeared'].min(), dish_df['last_appeared'].max()"
   ],
   "id": "49d8966d5d59e7aa",
   "outputs": [
    {
     "data": {
      "text/plain": "('1851-01-01', '2012-01-01')"
     },
     "execution_count": 11,
     "metadata": {},
     "output_type": "execute_result"
    }
   ],
   "execution_count": 11
  },
  {
   "metadata": {},
   "cell_type": "markdown",
   "source": [
    "5. First_appeared and Last_appeared columns are recognized as integers in DataGrip, text in OpenRefine, and int64 in Pandas."
   ],
   "id": "21bca4ef61dd88b2"
  },
  {
   "metadata": {
    "ExecuteTime": {
     "end_time": "2024-07-26T03:17:11.264334Z",
     "start_time": "2024-07-26T03:17:11.170415Z"
    }
   },
   "cell_type": "code",
   "source": [
    "dish_df['first_appeared'].head(1)"
   ],
   "id": "ca3ad934d0b8c34e",
   "outputs": [
    {
     "data": {
      "text/plain": "0    1897-01-01\nName: first_appeared, dtype: object"
     },
     "execution_count": 12,
     "metadata": {},
     "output_type": "execute_result"
    }
   ],
   "execution_count": 12
  },
  {
   "metadata": {
    "ExecuteTime": {
     "end_time": "2024-07-26T03:17:11.294295Z",
     "start_time": "2024-07-26T03:17:11.174841Z"
    }
   },
   "cell_type": "code",
   "source": [
    "dish_df['last_appeared'].head(1)"
   ],
   "id": "e35c89bcadb96e2c",
   "outputs": [
    {
     "data": {
      "text/plain": "0    1927-01-01\nName: last_appeared, dtype: object"
     },
     "execution_count": 13,
     "metadata": {},
     "output_type": "execute_result"
    }
   ],
   "execution_count": 13
  },
  {
   "metadata": {
    "ExecuteTime": {
     "end_time": "2024-07-26T03:17:11.294706Z",
     "start_time": "2024-07-26T03:17:11.189344Z"
    }
   },
   "cell_type": "code",
   "source": [
    "dish_df.dtypes"
   ],
   "id": "a9fcd097a2bb398c",
   "outputs": [
    {
     "data": {
      "text/plain": "id                  int64\nname               object\nmenus_appeared      int64\ntimes_appeared      int64\nfirst_appeared     object\nlast_appeared      object\nlowest_price      float64\nhighest_price     float64\ndtype: object"
     },
     "execution_count": 14,
     "metadata": {},
     "output_type": "execute_result"
    }
   ],
   "execution_count": 14
  },
  {
   "metadata": {},
   "cell_type": "markdown",
   "source": [
    "6. Lowest_price and Highest_price columns have unusually low price quartiles and some outliers."
   ],
   "id": "3a440c411263bcd6"
  },
  {
   "metadata": {
    "ExecuteTime": {
     "end_time": "2024-07-26T03:17:11.294942Z",
     "start_time": "2024-07-26T03:17:11.196591Z"
    }
   },
   "cell_type": "code",
   "source": [
    "dish_df['lowest_price'].min(), dish_df['lowest_price'].max()"
   ],
   "id": "4f8205dd3f8d8c74",
   "outputs": [
    {
     "data": {
      "text/plain": "(0.0, 800.0)"
     },
     "execution_count": 15,
     "metadata": {},
     "output_type": "execute_result"
    }
   ],
   "execution_count": 15
  },
  {
   "metadata": {
    "ExecuteTime": {
     "end_time": "2024-07-26T03:17:11.295603Z",
     "start_time": "2024-07-26T03:17:11.203048Z"
    }
   },
   "cell_type": "code",
   "source": [
    "dish_df['highest_price'].min(), dish_df['highest_price'].max()"
   ],
   "id": "5aabfcf4882ce4c6",
   "outputs": [
    {
     "data": {
      "text/plain": "(0.0, 3050.0)"
     },
     "execution_count": 16,
     "metadata": {},
     "output_type": "execute_result"
    }
   ],
   "execution_count": 16
  },
  {
   "metadata": {
    "ExecuteTime": {
     "end_time": "2024-07-26T03:17:11.295949Z",
     "start_time": "2024-07-26T03:17:11.208795Z"
    }
   },
   "cell_type": "code",
   "source": [
    "dish_df.loc[dish_df['lowest_price'] == 0].shape[0], dish_df.loc[dish_df['highest_price'] == 0].shape[0]"
   ],
   "id": "cab0d4d0937e60ec",
   "outputs": [
    {
     "data": {
      "text/plain": "(171794, 167401)"
     },
     "execution_count": 17,
     "metadata": {},
     "output_type": "execute_result"
    }
   ],
   "execution_count": 17
  },
  {
   "metadata": {},
   "cell_type": "markdown",
   "source": [
    "Menu Table Validation"
   ],
   "id": "c5a31ebbc5073214"
  },
  {
   "metadata": {},
   "cell_type": "markdown",
   "source": [
    "1. Keywords, Language, and Location_type columns should be removed."
   ],
   "id": "42bd48a83aa0ecff"
  },
  {
   "metadata": {
    "ExecuteTime": {
     "end_time": "2024-07-26T03:17:11.296161Z",
     "start_time": "2024-07-26T03:17:11.237278Z"
    }
   },
   "cell_type": "code",
   "source": [
    "'keywords' in menu_df.columns, 'language' in menu_df.columns, 'location_type' in menu_df.columns"
   ],
   "id": "b70cf619194c056c",
   "outputs": [
    {
     "data": {
      "text/plain": "(False, False, False)"
     },
     "execution_count": 18,
     "metadata": {},
     "output_type": "execute_result"
    }
   ],
   "execution_count": 18
  },
  {
   "metadata": {},
   "cell_type": "markdown",
   "source": [
    "2. Name, Sponsor, Event, Venue, Place, Physical_Description, Occasion, Notes, Call_Number, Date, Currency, and Currency_Symbol each have ~3.34% to ~81.78% of missing values."
   ],
   "id": "bbda52b9cd7acce4"
  },
  {
   "metadata": {
    "ExecuteTime": {
     "end_time": "2024-07-26T03:17:11.423525Z",
     "start_time": "2024-07-26T03:17:11.242559Z"
    }
   },
   "cell_type": "code",
   "source": [
    "missing_percentage = (menu_df.isnull().sum() / len(menu_df)) * 100\n",
    "missing_percentage.name = 'Percentage of Missing Values'\n",
    "missing_percentage"
   ],
   "id": "9f10f9147e982b5c",
   "outputs": [
    {
     "data": {
      "text/plain": "id                       0.000000\nname                    79.254352\nsponsor                  0.000000\nevent                   48.616524\nvenue                   50.500130\nplace                   50.350740\nphysical_description     7.859184\noccasion                75.480644\nnotes                   34.612886\ncall_number              0.006495\ndate                     0.000000\nlocation                 0.000000\nstatus                   0.000000\npage_count               0.000000\ndish_count               0.000000\nName: Percentage of Missing Values, dtype: float64"
     },
     "execution_count": 19,
     "metadata": {},
     "output_type": "execute_result"
    }
   ],
   "execution_count": 19
  },
  {
   "metadata": {},
   "cell_type": "markdown",
   "source": [
    "3. Date has values that are outside to what we consider the correct range of date (1800-2021) it should be. "
   ],
   "id": "6964bebc6e42a137"
  },
  {
   "metadata": {
    "ExecuteTime": {
     "end_time": "2024-07-26T03:17:11.586303Z",
     "start_time": "2024-07-26T03:17:11.276335Z"
    }
   },
   "cell_type": "code",
   "source": [
    "menu_df.date.min(), menu_df.date.max()"
   ],
   "id": "46e391117a980e6c",
   "outputs": [
    {
     "data": {
      "text/plain": "('1851-01-01', '2015-04-20')"
     },
     "execution_count": 20,
     "metadata": {},
     "output_type": "execute_result"
    }
   ],
   "execution_count": 20
  },
  {
   "metadata": {},
   "cell_type": "markdown",
   "source": [
    "Menu Item Table"
   ],
   "id": "16b58f4562f64f30"
  },
  {
   "metadata": {},
   "cell_type": "markdown",
   "source": [
    "1. Price and High_Price each have ~33.46% to ~93.1% missing values."
   ],
   "id": "890d0ea9835feb0f"
  },
  {
   "metadata": {
    "ExecuteTime": {
     "end_time": "2024-07-26T03:17:12.884950Z",
     "start_time": "2024-07-26T03:17:11.288532Z"
    }
   },
   "cell_type": "code",
   "outputs": [
    {
     "ename": "KeyError",
     "evalue": "'price'",
     "output_type": "error",
     "traceback": [
      "\u001B[0;31m---------------------------------------------------------------------------\u001B[0m",
      "\u001B[0;31mKeyError\u001B[0m                                  Traceback (most recent call last)",
      "File \u001B[0;32m~/mambaforge/lib/python3.10/site-packages/pandas/core/indexes/base.py:3800\u001B[0m, in \u001B[0;36mIndex.get_loc\u001B[0;34m(self, key, method, tolerance)\u001B[0m\n\u001B[1;32m   3799\u001B[0m \u001B[38;5;28;01mtry\u001B[39;00m:\n\u001B[0;32m-> 3800\u001B[0m     \u001B[38;5;28;01mreturn\u001B[39;00m \u001B[38;5;28;43mself\u001B[39;49m\u001B[38;5;241;43m.\u001B[39;49m\u001B[43m_engine\u001B[49m\u001B[38;5;241;43m.\u001B[39;49m\u001B[43mget_loc\u001B[49m\u001B[43m(\u001B[49m\u001B[43mcasted_key\u001B[49m\u001B[43m)\u001B[49m\n\u001B[1;32m   3801\u001B[0m \u001B[38;5;28;01mexcept\u001B[39;00m \u001B[38;5;167;01mKeyError\u001B[39;00m \u001B[38;5;28;01mas\u001B[39;00m err:\n",
      "File \u001B[0;32m~/mambaforge/lib/python3.10/site-packages/pandas/_libs/index.pyx:138\u001B[0m, in \u001B[0;36mpandas._libs.index.IndexEngine.get_loc\u001B[0;34m()\u001B[0m\n",
      "File \u001B[0;32m~/mambaforge/lib/python3.10/site-packages/pandas/_libs/index.pyx:165\u001B[0m, in \u001B[0;36mpandas._libs.index.IndexEngine.get_loc\u001B[0;34m()\u001B[0m\n",
      "File \u001B[0;32mpandas/_libs/hashtable_class_helper.pxi:5745\u001B[0m, in \u001B[0;36mpandas._libs.hashtable.PyObjectHashTable.get_item\u001B[0;34m()\u001B[0m\n",
      "File \u001B[0;32mpandas/_libs/hashtable_class_helper.pxi:5753\u001B[0m, in \u001B[0;36mpandas._libs.hashtable.PyObjectHashTable.get_item\u001B[0;34m()\u001B[0m\n",
      "\u001B[0;31mKeyError\u001B[0m: 'price'",
      "\nThe above exception was the direct cause of the following exception:\n",
      "\u001B[0;31mKeyError\u001B[0m                                  Traceback (most recent call last)",
      "Cell \u001B[0;32mIn[21], line 1\u001B[0m\n\u001B[0;32m----> 1\u001B[0m \u001B[43mmenu_item_df\u001B[49m\u001B[43m[\u001B[49m\u001B[38;5;124;43m'\u001B[39;49m\u001B[38;5;124;43mprice\u001B[39;49m\u001B[38;5;124;43m'\u001B[39;49m\u001B[43m]\u001B[49m\u001B[38;5;241m.\u001B[39misnull()\u001B[38;5;241m.\u001B[39msum(), menu_item_df[\u001B[38;5;124m'\u001B[39m\u001B[38;5;124mprice\u001B[39m\u001B[38;5;124m'\u001B[39m]\u001B[38;5;241m.\u001B[39misna()\u001B[38;5;241m.\u001B[39msum()\n",
      "File \u001B[0;32m~/mambaforge/lib/python3.10/site-packages/pandas/core/frame.py:3805\u001B[0m, in \u001B[0;36mDataFrame.__getitem__\u001B[0;34m(self, key)\u001B[0m\n\u001B[1;32m   3803\u001B[0m \u001B[38;5;28;01mif\u001B[39;00m \u001B[38;5;28mself\u001B[39m\u001B[38;5;241m.\u001B[39mcolumns\u001B[38;5;241m.\u001B[39mnlevels \u001B[38;5;241m>\u001B[39m \u001B[38;5;241m1\u001B[39m:\n\u001B[1;32m   3804\u001B[0m     \u001B[38;5;28;01mreturn\u001B[39;00m \u001B[38;5;28mself\u001B[39m\u001B[38;5;241m.\u001B[39m_getitem_multilevel(key)\n\u001B[0;32m-> 3805\u001B[0m indexer \u001B[38;5;241m=\u001B[39m \u001B[38;5;28;43mself\u001B[39;49m\u001B[38;5;241;43m.\u001B[39;49m\u001B[43mcolumns\u001B[49m\u001B[38;5;241;43m.\u001B[39;49m\u001B[43mget_loc\u001B[49m\u001B[43m(\u001B[49m\u001B[43mkey\u001B[49m\u001B[43m)\u001B[49m\n\u001B[1;32m   3806\u001B[0m \u001B[38;5;28;01mif\u001B[39;00m is_integer(indexer):\n\u001B[1;32m   3807\u001B[0m     indexer \u001B[38;5;241m=\u001B[39m [indexer]\n",
      "File \u001B[0;32m~/mambaforge/lib/python3.10/site-packages/pandas/core/indexes/base.py:3802\u001B[0m, in \u001B[0;36mIndex.get_loc\u001B[0;34m(self, key, method, tolerance)\u001B[0m\n\u001B[1;32m   3800\u001B[0m     \u001B[38;5;28;01mreturn\u001B[39;00m \u001B[38;5;28mself\u001B[39m\u001B[38;5;241m.\u001B[39m_engine\u001B[38;5;241m.\u001B[39mget_loc(casted_key)\n\u001B[1;32m   3801\u001B[0m \u001B[38;5;28;01mexcept\u001B[39;00m \u001B[38;5;167;01mKeyError\u001B[39;00m \u001B[38;5;28;01mas\u001B[39;00m err:\n\u001B[0;32m-> 3802\u001B[0m     \u001B[38;5;28;01mraise\u001B[39;00m \u001B[38;5;167;01mKeyError\u001B[39;00m(key) \u001B[38;5;28;01mfrom\u001B[39;00m \u001B[38;5;21;01merr\u001B[39;00m\n\u001B[1;32m   3803\u001B[0m \u001B[38;5;28;01mexcept\u001B[39;00m \u001B[38;5;167;01mTypeError\u001B[39;00m:\n\u001B[1;32m   3804\u001B[0m     \u001B[38;5;66;03m# If we have a listlike key, _check_indexing_error will raise\u001B[39;00m\n\u001B[1;32m   3805\u001B[0m     \u001B[38;5;66;03m#  InvalidIndexError. Otherwise we fall through and re-raise\u001B[39;00m\n\u001B[1;32m   3806\u001B[0m     \u001B[38;5;66;03m#  the TypeError.\u001B[39;00m\n\u001B[1;32m   3807\u001B[0m     \u001B[38;5;28mself\u001B[39m\u001B[38;5;241m.\u001B[39m_check_indexing_error(key)\n",
      "\u001B[0;31mKeyError\u001B[0m: 'price'"
     ]
    }
   ],
   "execution_count": 21,
   "source": [
    "menu_item_df['price'].isnull().sum(), menu_item_df['price'].isna().sum()"
   ],
   "id": "f2a80ea95f5b1197"
  },
  {
   "metadata": {
    "ExecuteTime": {
     "start_time": "2024-07-26T03:17:12.883402Z"
    }
   },
   "cell_type": "code",
   "source": [
    "menu_item_df['high_price'].isnull().sum(), menu_item_df['high_price'].isna().sum()"
   ],
   "id": "1e9330210b30acb2",
   "outputs": [],
   "execution_count": null
  },
  {
   "metadata": {},
   "cell_type": "markdown",
   "source": [
    "2. Dish_Id has 0.01% of missing values."
   ],
   "id": "8d5f5e5c1608ce5b"
  },
  {
   "metadata": {
    "ExecuteTime": {
     "start_time": "2024-07-26T03:17:12.884017Z"
    }
   },
   "cell_type": "code",
   "source": [
    "menu_item_df['dish_id'].isnull().sum(), menu_item_df['dish_id'].isna().sum()"
   ],
   "id": "38801e160b21c802",
   "outputs": [],
   "execution_count": null
  },
  {
   "metadata": {},
   "cell_type": "markdown",
   "source": [
    "Menu Page Table"
   ],
   "id": "b50b49074770f1e7"
  },
  {
   "metadata": {},
   "cell_type": "markdown",
   "source": [
    "1. Page_Number has 1.8% missing values."
   ],
   "id": "1c4d746a97edf6ca"
  },
  {
   "metadata": {
    "ExecuteTime": {
     "start_time": "2024-07-26T03:17:12.884120Z"
    }
   },
   "cell_type": "code",
   "source": [
    "menu_page_df['page_number'].isnull().sum(), menu_page_df['page_number'].isna().sum()"
   ],
   "id": "63772a3a9cd300ac",
   "outputs": [],
   "execution_count": null
  },
  {
   "metadata": {},
   "cell_type": "markdown",
   "source": [
    "2. Image_Id column is impossible to match to an actual image from the NYPL website."
   ],
   "id": "e636e587e7a3f482"
  },
  {
   "metadata": {
    "ExecuteTime": {
     "start_time": "2024-07-26T03:17:12.884198Z"
    }
   },
   "cell_type": "code",
   "source": [
    "menu_page_df['image_id'].isnull().sum(), menu_page_df['image_id'].isna().sum()"
   ],
   "id": "2ab4e76455569864",
   "outputs": [],
   "execution_count": null
  }
 ],
 "metadata": {
  "kernelspec": {
   "display_name": "Python 3",
   "language": "python",
   "name": "python3"
  },
  "language_info": {
   "codemirror_mode": {
    "name": "ipython",
    "version": 2
   },
   "file_extension": ".py",
   "mimetype": "text/x-python",
   "name": "python",
   "nbconvert_exporter": "python",
   "pygments_lexer": "ipython2",
   "version": "2.7.6"
  }
 },
 "nbformat": 4,
 "nbformat_minor": 5
}
