{
 "cells": [
  {
   "cell_type": "markdown",
   "source": [
    "# Integrity Constraint Violations\n",
    "\n",
    "In this report, the total number of integrity constraint violations is calculated for each data table. \n",
    "\n",
    "The overall number of integrity constraint violations across all data tables is calculated at the end."
   ],
   "metadata": {
    "collapsed": false
   },
   "id": "e57504e1be31877d"
  },
  {
   "cell_type": "code",
   "execution_count": 138,
   "outputs": [],
   "source": [
    "import pandas as pd"
   ],
   "metadata": {
    "collapsed": false,
    "ExecuteTime": {
     "end_time": "2024-07-25T01:06:10.223775Z",
     "start_time": "2024-07-25T01:06:10.217625Z"
    }
   },
   "id": "c17d7729279dabe3"
  },
  {
   "cell_type": "code",
   "execution_count": 139,
   "outputs": [],
   "source": [
    "# Reset overall violations\n",
    "overall_violations = 0"
   ],
   "metadata": {
    "collapsed": false,
    "ExecuteTime": {
     "end_time": "2024-07-25T01:06:10.392192Z",
     "start_time": "2024-07-25T01:06:10.387861Z"
    }
   },
   "id": "ffa5ba7c0b75ecdf"
  },
  {
   "cell_type": "markdown",
   "source": [
    "## 1. Menu"
   ],
   "metadata": {
    "collapsed": false
   },
   "id": "be5b1b41be330e61"
  },
  {
   "cell_type": "code",
   "execution_count": 140,
   "outputs": [],
   "source": [
    "menu_df = pd.read_feather(\"../Data Files/Menu.feather\")"
   ],
   "metadata": {
    "collapsed": false,
    "ExecuteTime": {
     "end_time": "2024-07-25T01:06:10.822980Z",
     "start_time": "2024-07-25T01:06:10.766548Z"
    }
   },
   "id": "a4e50dce5810ab4f"
  },
  {
   "cell_type": "markdown",
   "source": [
    "IC 1.1: No menus should have a null \"id\""
   ],
   "metadata": {
    "collapsed": false
   },
   "id": "43305d09f7e1fb49"
  },
  {
   "cell_type": "code",
   "execution_count": 141,
   "outputs": [
    {
     "name": "stdout",
     "output_type": "stream",
     "text": [
      "Number of violations: 0 violations\n"
     ]
    }
   ],
   "source": [
    "id_null = menu_df['id'].isnull()\n",
    "ic_1_1_violations = menu_df[id_null]\n",
    "overall_violations += len(ic_1_1_violations)\n",
    "print(f'Number of violations: {len(ic_1_1_violations)} violations')"
   ],
   "metadata": {
    "collapsed": false,
    "ExecuteTime": {
     "end_time": "2024-07-25T01:06:11.190328Z",
     "start_time": "2024-07-25T01:06:11.179250Z"
    }
   },
   "id": "4edb0cc463a7f5c0"
  },
  {
   "cell_type": "markdown",
   "source": [
    "IC 1.2: No menus should have the same \"id\""
   ],
   "metadata": {
    "collapsed": false
   },
   "id": "876c370e77495388"
  },
  {
   "cell_type": "code",
   "execution_count": 142,
   "outputs": [
    {
     "name": "stdout",
     "output_type": "stream",
     "text": [
      "Number of violations: 0 violations\n"
     ]
    }
   ],
   "source": [
    "id_duplicates = menu_df.duplicated('id', keep=False)\n",
    "ic_1_2_violations = menu_df[id_duplicates]\n",
    "overall_violations += len(ic_1_2_violations)\n",
    "print(f'Number of violations: {len(ic_1_2_violations)} violations')"
   ],
   "metadata": {
    "collapsed": false,
    "ExecuteTime": {
     "end_time": "2024-07-25T01:06:11.622575Z",
     "start_time": "2024-07-25T01:06:11.610851Z"
    }
   },
   "id": "c3ffc1382f982c65"
  },
  {
   "cell_type": "markdown",
   "source": [
    "IC 1.3: No menus should have a null \"sponsor\""
   ],
   "metadata": {
    "collapsed": false
   },
   "id": "289502129bb36624"
  },
  {
   "cell_type": "code",
   "execution_count": 143,
   "outputs": [
    {
     "name": "stdout",
     "output_type": "stream",
     "text": [
      "Number of violations: 1561 violations\n"
     ]
    }
   ],
   "source": [
    "sponsor_null = menu_df['sponsor'].isnull()\n",
    "ic_1_3_violations = menu_df[sponsor_null]\n",
    "overall_violations += len(ic_1_3_violations)\n",
    "print(f'Number of violations: {len(ic_1_3_violations)} violations')"
   ],
   "metadata": {
    "collapsed": false,
    "ExecuteTime": {
     "end_time": "2024-07-25T01:06:12.033837Z",
     "start_time": "2024-07-25T01:06:12.021367Z"
    }
   },
   "id": "3556fb836fd6601"
  },
  {
   "cell_type": "code",
   "execution_count": 143,
   "outputs": [],
   "source": [],
   "metadata": {
    "collapsed": false,
    "ExecuteTime": {
     "end_time": "2024-07-25T01:06:12.233424Z",
     "start_time": "2024-07-25T01:06:12.228261Z"
    }
   },
   "id": "88826548910ecba1"
  },
  {
   "cell_type": "markdown",
   "source": [
    "## 2. MenuPage Table"
   ],
   "metadata": {
    "collapsed": false
   },
   "id": "8b46e746c2c6f4ed"
  },
  {
   "cell_type": "code",
   "execution_count": 144,
   "outputs": [],
   "source": [
    "menupage_df = pd.read_feather(\"../Data Files/MenuPage.feather\")"
   ],
   "metadata": {
    "collapsed": false,
    "ExecuteTime": {
     "end_time": "2024-07-25T01:06:12.696321Z",
     "start_time": "2024-07-25T01:06:12.644912Z"
    }
   },
   "id": "b08973ca6c0ba9d0"
  },
  {
   "cell_type": "markdown",
   "source": [
    "IC 2.1: No menus pages should have a null \"id\""
   ],
   "metadata": {
    "collapsed": false
   },
   "id": "d633e352d24e6106"
  },
  {
   "cell_type": "code",
   "execution_count": 145,
   "outputs": [
    {
     "name": "stdout",
     "output_type": "stream",
     "text": [
      "Number of violations: 0 violations\n"
     ]
    }
   ],
   "source": [
    "id_null = menupage_df['id'].isnull()\n",
    "ic_2_1_violations = menupage_df[id_null]\n",
    "overall_violations += len(ic_2_1_violations)\n",
    "print(f'Number of violations: {len(ic_2_1_violations)} violations')"
   ],
   "metadata": {
    "collapsed": false,
    "ExecuteTime": {
     "end_time": "2024-07-25T01:06:13.076048Z",
     "start_time": "2024-07-25T01:06:13.063144Z"
    }
   },
   "id": "a04472342cff0154"
  },
  {
   "cell_type": "markdown",
   "source": [
    "IC 2.2: No menu pages should have the same \"id\""
   ],
   "metadata": {
    "collapsed": false
   },
   "id": "fe82293a744c31ec"
  },
  {
   "cell_type": "code",
   "execution_count": 146,
   "outputs": [
    {
     "name": "stdout",
     "output_type": "stream",
     "text": [
      "Number of violations: 0 violations\n"
     ]
    }
   ],
   "source": [
    "id_duplicates = menupage_df.duplicated('id', keep=False)\n",
    "ic_2_2_violations = menupage_df[id_duplicates]\n",
    "overall_violations += len(ic_2_2_violations)\n",
    "print(f'Number of violations: {len(ic_2_2_violations)} violations')"
   ],
   "metadata": {
    "collapsed": false,
    "ExecuteTime": {
     "end_time": "2024-07-25T01:06:13.515351Z",
     "start_time": "2024-07-25T01:06:13.494398Z"
    }
   },
   "id": "9630e8406b7f7a6c"
  },
  {
   "cell_type": "markdown",
   "source": [
    "IC 2.3: No menu pages should have a null \"menu_id\""
   ],
   "metadata": {
    "collapsed": false
   },
   "id": "c492b4ede9260476"
  },
  {
   "cell_type": "code",
   "execution_count": 147,
   "outputs": [
    {
     "name": "stdout",
     "output_type": "stream",
     "text": [
      "Number of violations: 0 violations\n"
     ]
    }
   ],
   "source": [
    "menuid_null = menupage_df['menu_id'].isnull()\n",
    "ic_2_3_violations = menupage_df[menuid_null]\n",
    "overall_violations += len(ic_2_3_violations)\n",
    "print(f'Number of violations: {len(ic_2_3_violations)} violations')"
   ],
   "metadata": {
    "collapsed": false,
    "ExecuteTime": {
     "end_time": "2024-07-25T01:06:13.933217Z",
     "start_time": "2024-07-25T01:06:13.929885Z"
    }
   },
   "id": "93e95e87ca508e00"
  },
  {
   "cell_type": "markdown",
   "source": [
    "IC 2.4: Each menu page should reference an existing \"menu_id\" -> Menu(id)"
   ],
   "metadata": {
    "collapsed": false
   },
   "id": "d5e6e0eec6dbaba0"
  },
  {
   "cell_type": "code",
   "execution_count": 148,
   "outputs": [
    {
     "name": "stdout",
     "output_type": "stream",
     "text": [
      "Number of violations: 2271 violations\n"
     ]
    }
   ],
   "source": [
    "valid_menu_ids = set(menu_df['id'])\n",
    "menu_page_ids = set(menupage_df['menu_id'])\n",
    "ic_2_4_violations = menu_page_ids - valid_menu_ids\n",
    "\n",
    "overall_violations += len(ic_2_4_violations)\n",
    "print(f'Number of violations: {len(ic_2_4_violations)} violations')"
   ],
   "metadata": {
    "collapsed": false,
    "ExecuteTime": {
     "end_time": "2024-07-25T01:06:14.373137Z",
     "start_time": "2024-07-25T01:06:14.368960Z"
    }
   },
   "id": "a54047bbc10eb260"
  },
  {
   "cell_type": "markdown",
   "source": [],
   "metadata": {
    "collapsed": false
   },
   "id": "e3e71bee67f7e6d3"
  },
  {
   "cell_type": "markdown",
   "source": [
    "## 3. MenuItem Table"
   ],
   "metadata": {
    "collapsed": false
   },
   "id": "7f8a316fd290b9a5"
  },
  {
   "cell_type": "code",
   "execution_count": 149,
   "outputs": [],
   "source": [
    "menuitem_df = pd.read_feather(\"../Data Files/MenuItem.feather\")"
   ],
   "metadata": {
    "collapsed": false,
    "ExecuteTime": {
     "end_time": "2024-07-25T01:06:16.426826Z",
     "start_time": "2024-07-25T01:06:15.060653Z"
    }
   },
   "id": "b0e282eba37d2f6"
  },
  {
   "cell_type": "markdown",
   "source": [
    "IC 3.1: No menu items should have a null \"id\""
   ],
   "metadata": {
    "collapsed": false
   },
   "id": "4c8f94a452b25334"
  },
  {
   "cell_type": "code",
   "execution_count": 150,
   "outputs": [
    {
     "name": "stdout",
     "output_type": "stream",
     "text": [
      "Number of violations: 0 violations\n"
     ]
    }
   ],
   "source": [
    "id_null = menuitem_df['id'].isnull()\n",
    "ic_3_1_violations = menuitem_df[id_null]\n",
    "overall_violations += len(ic_3_1_violations)\n",
    "print(f'Number of violations: {len(ic_3_1_violations)} violations')"
   ],
   "metadata": {
    "collapsed": false,
    "ExecuteTime": {
     "end_time": "2024-07-25T01:06:16.438522Z",
     "start_time": "2024-07-25T01:06:16.431269Z"
    }
   },
   "id": "c4af2823711fa1ea"
  },
  {
   "cell_type": "markdown",
   "source": [
    "IC 3.2: No menu items should have the same \"id\""
   ],
   "metadata": {
    "collapsed": false
   },
   "id": "700a9b8a3c2623e6"
  },
  {
   "cell_type": "code",
   "execution_count": 151,
   "outputs": [
    {
     "name": "stdout",
     "output_type": "stream",
     "text": [
      "Number of violations: 0 violations\n"
     ]
    }
   ],
   "source": [
    "id_duplicates = menuitem_df.duplicated('id', keep=False)\n",
    "ic_3_2_violations = menuitem_df[id_duplicates]\n",
    "overall_violations += len(ic_3_2_violations)\n",
    "print(f'Number of violations: {len(ic_3_2_violations)} violations')"
   ],
   "metadata": {
    "collapsed": false,
    "ExecuteTime": {
     "end_time": "2024-07-25T01:06:16.488921Z",
     "start_time": "2024-07-25T01:06:16.436513Z"
    }
   },
   "id": "a970b0642a066af3"
  },
  {
   "cell_type": "markdown",
   "source": [
    "## 4. Dish Table"
   ],
   "metadata": {
    "collapsed": false
   },
   "id": "7d5adb23d9ef19d9"
  },
  {
   "cell_type": "code",
   "execution_count": 152,
   "outputs": [],
   "source": [
    "dish_df = pd.read_feather(\"../Data Files/Dish.feather\")"
   ],
   "metadata": {
    "collapsed": false,
    "ExecuteTime": {
     "end_time": "2024-07-25T01:06:16.670951Z",
     "start_time": "2024-07-25T01:06:16.470805Z"
    }
   },
   "id": "271ce7cdf87ec4"
  },
  {
   "cell_type": "markdown",
   "source": [
    "IC 4.1: No menus should have a null \"id\""
   ],
   "metadata": {
    "collapsed": false
   },
   "id": "4fe9d81d25c06b46"
  },
  {
   "cell_type": "code",
   "execution_count": 153,
   "outputs": [
    {
     "name": "stdout",
     "output_type": "stream",
     "text": [
      "Number of violations: 0 violations\n"
     ]
    }
   ],
   "source": [
    "id_null = dish_df['id'].isnull()\n",
    "ic_4_1_violations = dish_df[id_null]\n",
    "overall_violations += len(ic_4_1_violations)\n",
    "print(f'Number of violations: {len(ic_4_1_violations)} violations')"
   ],
   "metadata": {
    "collapsed": false,
    "ExecuteTime": {
     "end_time": "2024-07-25T01:06:16.877988Z",
     "start_time": "2024-07-25T01:06:16.857221Z"
    }
   },
   "id": "e72a2c290e6a5eab"
  },
  {
   "cell_type": "markdown",
   "source": [
    "IC 4.2: No dishes should have the same \"id\""
   ],
   "metadata": {
    "collapsed": false
   },
   "id": "e01a376e9ba30e67"
  },
  {
   "cell_type": "code",
   "execution_count": 154,
   "outputs": [
    {
     "name": "stdout",
     "output_type": "stream",
     "text": [
      "Number of violations: 0 violations\n"
     ]
    }
   ],
   "source": [
    "id_duplicates = dish_df.duplicated('id', keep=False)\n",
    "ic_4_2_violations = dish_df[id_duplicates]\n",
    "overall_violations += len(ic_4_2_violations)\n",
    "print(f'Number of violations: {len(ic_4_2_violations)} violations')"
   ],
   "metadata": {
    "collapsed": false,
    "ExecuteTime": {
     "end_time": "2024-07-25T01:06:17.437159Z",
     "start_time": "2024-07-25T01:06:17.405241Z"
    }
   },
   "id": "f6a84a0fe3aa779a"
  },
  {
   "cell_type": "markdown",
   "source": [
    "## Overall"
   ],
   "metadata": {
    "collapsed": false
   },
   "id": "22cf0fea3c213f12"
  },
  {
   "cell_type": "code",
   "execution_count": 155,
   "outputs": [
    {
     "name": "stdout",
     "output_type": "stream",
     "text": [
      "Overall number of violations: 3832 violations\n"
     ]
    }
   ],
   "source": [
    "print(f'Overall number of violations: {overall_violations} violations')"
   ],
   "metadata": {
    "collapsed": false,
    "ExecuteTime": {
     "end_time": "2024-07-25T01:06:17.960574Z",
     "start_time": "2024-07-25T01:06:17.948878Z"
    }
   },
   "id": "b1d02182505aa17b"
  },
  {
   "cell_type": "code",
   "execution_count": null,
   "outputs": [],
   "source": [],
   "metadata": {
    "collapsed": false
   },
   "id": "a3069dc22b6dad20"
  }
 ],
 "metadata": {
  "kernelspec": {
   "display_name": "Python 3",
   "language": "python",
   "name": "python3"
  },
  "language_info": {
   "codemirror_mode": {
    "name": "ipython",
    "version": 2
   },
   "file_extension": ".py",
   "mimetype": "text/x-python",
   "name": "python",
   "nbconvert_exporter": "python",
   "pygments_lexer": "ipython2",
   "version": "2.7.6"
  }
 },
 "nbformat": 4,
 "nbformat_minor": 5
}
