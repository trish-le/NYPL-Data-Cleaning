{
 "cells": [
  {
   "cell_type": "markdown",
   "source": [
    "# Integrity Constraint Violations\n",
    "\n",
    "In this report, the total number of integrity constraint violations is calculated for each data table. \n",
    "\n",
    "The overall number of integrity constraint violations across all data tables is calculated at the end."
   ],
   "metadata": {
    "collapsed": false
   },
   "id": "e57504e1be31877d"
  },
  {
   "cell_type": "code",
   "execution_count": 33,
   "outputs": [],
   "source": [
    "import pandas as pd"
   ],
   "metadata": {
    "collapsed": false,
    "ExecuteTime": {
     "end_time": "2024-07-25T00:26:07.228725Z",
     "start_time": "2024-07-25T00:26:07.217679Z"
    }
   },
   "id": "c17d7729279dabe3"
  },
  {
   "cell_type": "code",
   "execution_count": 34,
   "outputs": [],
   "source": [
    "# Reset overall violations\n",
    "overall_violations = 0"
   ],
   "metadata": {
    "collapsed": false,
    "ExecuteTime": {
     "end_time": "2024-07-25T00:26:07.484912Z",
     "start_time": "2024-07-25T00:26:07.481951Z"
    }
   },
   "id": "ffa5ba7c0b75ecdf"
  },
  {
   "cell_type": "markdown",
   "source": [
    "## 1. Menu"
   ],
   "metadata": {
    "collapsed": false
   },
   "id": "be5b1b41be330e61"
  },
  {
   "cell_type": "code",
   "execution_count": 35,
   "outputs": [],
   "source": [
    "menu_df = pd.read_feather(\"../Data Files/Menu.feather\")"
   ],
   "metadata": {
    "collapsed": false,
    "ExecuteTime": {
     "end_time": "2024-07-25T00:26:08.981862Z",
     "start_time": "2024-07-25T00:26:08.921977Z"
    }
   },
   "id": "a4e50dce5810ab4f"
  },
  {
   "cell_type": "markdown",
   "source": [
    "IC 1.1: No menus should have the same \"id\""
   ],
   "metadata": {
    "collapsed": false
   },
   "id": "876c370e77495388"
  },
  {
   "cell_type": "code",
   "execution_count": 37,
   "outputs": [
    {
     "name": "stdout",
     "output_type": "stream",
     "text": [
      "Number of violations: 0 violations\n"
     ]
    }
   ],
   "source": [
    "id_duplicates = menu_df.duplicated('id', keep=False)\n",
    "id_violations = menu_df[id_duplicates]\n",
    "overall_violations += len(id_violations)\n",
    "print(f'Number of violations: {len(id_violations)} violations')"
   ],
   "metadata": {
    "collapsed": false,
    "ExecuteTime": {
     "end_time": "2024-07-25T00:26:15.036840Z",
     "start_time": "2024-07-25T00:26:15.025189Z"
    }
   },
   "id": "c3ffc1382f982c65"
  },
  {
   "cell_type": "markdown",
   "source": [
    "## 2. MenuPage Table"
   ],
   "metadata": {
    "collapsed": false
   },
   "id": "8b46e746c2c6f4ed"
  },
  {
   "cell_type": "code",
   "execution_count": 39,
   "outputs": [],
   "source": [
    "menupage_df = pd.read_feather(\"../Data Files/MenuPage.feather\")"
   ],
   "metadata": {
    "collapsed": false,
    "ExecuteTime": {
     "end_time": "2024-07-25T00:26:21.342744Z",
     "start_time": "2024-07-25T00:26:21.303945Z"
    }
   },
   "id": "b08973ca6c0ba9d0"
  },
  {
   "cell_type": "markdown",
   "source": [
    "IC 2.1: No menu pages should have the same \"id\""
   ],
   "metadata": {
    "collapsed": false
   },
   "id": "fe82293a744c31ec"
  },
  {
   "cell_type": "code",
   "execution_count": 40,
   "outputs": [
    {
     "name": "stdout",
     "output_type": "stream",
     "text": [
      "Number of violations: 0 violations\n"
     ]
    }
   ],
   "source": [
    "id_duplicates = menupage_df.duplicated('id', keep=False)\n",
    "id_violations = menupage_df[id_duplicates]\n",
    "overall_violations += len(id_violations)\n",
    "print(f'Number of violations: {len(id_violations)} violations')"
   ],
   "metadata": {
    "collapsed": false,
    "ExecuteTime": {
     "end_time": "2024-07-25T00:26:22.011034Z",
     "start_time": "2024-07-25T00:26:21.958146Z"
    }
   },
   "id": "9630e8406b7f7a6c"
  },
  {
   "cell_type": "markdown",
   "source": [
    "## 3. MenuItem Table"
   ],
   "metadata": {
    "collapsed": false
   },
   "id": "7f8a316fd290b9a5"
  },
  {
   "cell_type": "code",
   "execution_count": 41,
   "outputs": [],
   "source": [
    "menuitem_df = pd.read_feather(\"../Data Files/MenuItem.feather\")"
   ],
   "metadata": {
    "collapsed": false,
    "ExecuteTime": {
     "end_time": "2024-07-25T00:26:26.578147Z",
     "start_time": "2024-07-25T00:26:25.546350Z"
    }
   },
   "id": "b0e282eba37d2f6"
  },
  {
   "cell_type": "markdown",
   "source": [
    "IC 3.1: No menu items should have the same \"id\""
   ],
   "metadata": {
    "collapsed": false
   },
   "id": "700a9b8a3c2623e6"
  },
  {
   "cell_type": "code",
   "execution_count": 44,
   "outputs": [
    {
     "name": "stdout",
     "output_type": "stream",
     "text": [
      "Number of violations: 0 violations\n"
     ]
    }
   ],
   "source": [
    "id_duplicates = menuitem_df.duplicated('id', keep=False)\n",
    "id_violations = menuitem_df[id_duplicates]\n",
    "overall_violations += len(id_violations)\n",
    "print(f'Number of violations: {len(id_violations)} violations')"
   ],
   "metadata": {
    "collapsed": false,
    "ExecuteTime": {
     "end_time": "2024-07-25T00:26:54.047440Z",
     "start_time": "2024-07-25T00:26:54.004827Z"
    }
   },
   "id": "a970b0642a066af3"
  },
  {
   "cell_type": "markdown",
   "source": [
    "## 4. Dish Table"
   ],
   "metadata": {
    "collapsed": false
   },
   "id": "7d5adb23d9ef19d9"
  },
  {
   "cell_type": "code",
   "execution_count": 45,
   "outputs": [],
   "source": [
    "dish_df = pd.read_feather(\"../Data Files/Dish.feather\")"
   ],
   "metadata": {
    "collapsed": false,
    "ExecuteTime": {
     "end_time": "2024-07-25T00:27:07.375903Z",
     "start_time": "2024-07-25T00:27:07.168187Z"
    }
   },
   "id": "271ce7cdf87ec4"
  },
  {
   "cell_type": "markdown",
   "source": [
    "IC 3.1: No dishes should have the same \"id\""
   ],
   "metadata": {
    "collapsed": false
   },
   "id": "e01a376e9ba30e67"
  },
  {
   "cell_type": "code",
   "execution_count": 46,
   "outputs": [
    {
     "name": "stdout",
     "output_type": "stream",
     "text": [
      "Number of violations: 0 violations\n"
     ]
    }
   ],
   "source": [
    "id_duplicates = dish_df.duplicated('id', keep=False)\n",
    "id_violations = dish_df[id_duplicates]\n",
    "overall_violations += len(id_violations)\n",
    "print(f'Number of violations: {len(id_violations)} violations')"
   ],
   "metadata": {
    "collapsed": false,
    "ExecuteTime": {
     "end_time": "2024-07-25T00:27:17.270463Z",
     "start_time": "2024-07-25T00:27:17.248726Z"
    }
   },
   "id": "f6a84a0fe3aa779a"
  },
  {
   "cell_type": "markdown",
   "source": [
    "## Overall"
   ],
   "metadata": {
    "collapsed": false
   },
   "id": "22cf0fea3c213f12"
  },
  {
   "cell_type": "code",
   "execution_count": 48,
   "outputs": [
    {
     "name": "stdout",
     "output_type": "stream",
     "text": [
      "Overall number of violations: 0 violations\n"
     ]
    }
   ],
   "source": [
    "print(f'Overall number of violations: {overall_violations} violations')"
   ],
   "metadata": {
    "collapsed": false,
    "ExecuteTime": {
     "end_time": "2024-07-25T00:27:40.684208Z",
     "start_time": "2024-07-25T00:27:40.672981Z"
    }
   },
   "id": "b1d02182505aa17b"
  },
  {
   "cell_type": "code",
   "execution_count": null,
   "outputs": [],
   "source": [],
   "metadata": {
    "collapsed": false
   },
   "id": "a3069dc22b6dad20"
  }
 ],
 "metadata": {
  "kernelspec": {
   "display_name": "Python 3",
   "language": "python",
   "name": "python3"
  },
  "language_info": {
   "codemirror_mode": {
    "name": "ipython",
    "version": 2
   },
   "file_extension": ".py",
   "mimetype": "text/x-python",
   "name": "python",
   "nbconvert_exporter": "python",
   "pygments_lexer": "ipython2",
   "version": "2.7.6"
  }
 },
 "nbformat": 4,
 "nbformat_minor": 5
}
