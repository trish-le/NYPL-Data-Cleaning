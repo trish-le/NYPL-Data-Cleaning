{
 "cells": [
  {
   "cell_type": "markdown",
   "source": [
    "# Integrity Constraint Violations\n",
    "\n",
    "In this report, the total number of integrity constraint violations is calculated for each data table. \n",
    "\n",
    "The overall number of integrity constraint violations across all data tables is calculated at the end."
   ],
   "metadata": {
    "collapsed": false
   },
   "id": "e57504e1be31877d"
  },
  {
   "cell_type": "code",
   "execution_count": 90,
   "outputs": [],
   "source": [
    "import pandas as pd"
   ],
   "metadata": {
    "collapsed": false,
    "ExecuteTime": {
     "end_time": "2024-07-25T00:41:50.439092Z",
     "start_time": "2024-07-25T00:41:50.431938Z"
    }
   },
   "id": "c17d7729279dabe3"
  },
  {
   "cell_type": "code",
   "execution_count": 91,
   "outputs": [],
   "source": [
    "# Reset overall violations\n",
    "overall_violations = 0"
   ],
   "metadata": {
    "collapsed": false,
    "ExecuteTime": {
     "end_time": "2024-07-25T00:41:50.639882Z",
     "start_time": "2024-07-25T00:41:50.635886Z"
    }
   },
   "id": "ffa5ba7c0b75ecdf"
  },
  {
   "cell_type": "markdown",
   "source": [
    "## 1. Menu"
   ],
   "metadata": {
    "collapsed": false
   },
   "id": "be5b1b41be330e61"
  },
  {
   "cell_type": "code",
   "execution_count": 92,
   "outputs": [],
   "source": [
    "menu_df = pd.read_feather(\"../Data Files/Menu.feather\")"
   ],
   "metadata": {
    "collapsed": false,
    "ExecuteTime": {
     "end_time": "2024-07-25T00:41:51.049671Z",
     "start_time": "2024-07-25T00:41:51.025653Z"
    }
   },
   "id": "a4e50dce5810ab4f"
  },
  {
   "cell_type": "markdown",
   "source": [
    "IC 1.1: No menus should have a null \"id\""
   ],
   "metadata": {
    "collapsed": false
   },
   "id": "43305d09f7e1fb49"
  },
  {
   "cell_type": "code",
   "execution_count": 93,
   "outputs": [
    {
     "name": "stdout",
     "output_type": "stream",
     "text": [
      "Number of violations: 0 violations\n"
     ]
    }
   ],
   "source": [
    "id_null = menu_df['id'].isnull()\n",
    "ic_1_1_violations = menu_df[id_null]\n",
    "overall_violations += len(ic_1_1_violations)\n",
    "print(f'Number of violations: {len(ic_1_1_violations)} violations')"
   ],
   "metadata": {
    "collapsed": false,
    "ExecuteTime": {
     "end_time": "2024-07-25T00:41:51.452698Z",
     "start_time": "2024-07-25T00:41:51.450238Z"
    }
   },
   "id": "4edb0cc463a7f5c0"
  },
  {
   "cell_type": "markdown",
   "source": [
    "IC 1.2: No menus should have the same \"id\""
   ],
   "metadata": {
    "collapsed": false
   },
   "id": "876c370e77495388"
  },
  {
   "cell_type": "code",
   "execution_count": 94,
   "outputs": [
    {
     "name": "stdout",
     "output_type": "stream",
     "text": [
      "Number of violations: 0 violations\n"
     ]
    }
   ],
   "source": [
    "id_duplicates = menu_df.duplicated('id', keep=False)\n",
    "ic_1_2_violations = menu_df[id_duplicates]\n",
    "overall_violations += len(ic_1_2_violations)\n",
    "print(f'Number of violations: {len(ic_1_2_violations)} violations')"
   ],
   "metadata": {
    "collapsed": false,
    "ExecuteTime": {
     "end_time": "2024-07-25T00:41:51.890795Z",
     "start_time": "2024-07-25T00:41:51.876527Z"
    }
   },
   "id": "c3ffc1382f982c65"
  },
  {
   "cell_type": "markdown",
   "source": [
    "## 2. MenuPage Table"
   ],
   "metadata": {
    "collapsed": false
   },
   "id": "8b46e746c2c6f4ed"
  },
  {
   "cell_type": "code",
   "execution_count": 95,
   "outputs": [],
   "source": [
    "menupage_df = pd.read_feather(\"../Data Files/MenuPage.feather\")"
   ],
   "metadata": {
    "collapsed": false,
    "ExecuteTime": {
     "end_time": "2024-07-25T00:41:52.302409Z",
     "start_time": "2024-07-25T00:41:52.274604Z"
    }
   },
   "id": "b08973ca6c0ba9d0"
  },
  {
   "cell_type": "markdown",
   "source": [
    "IC 2.1: No menus pages should have a null \"id\""
   ],
   "metadata": {
    "collapsed": false
   },
   "id": "d633e352d24e6106"
  },
  {
   "cell_type": "code",
   "execution_count": 96,
   "outputs": [
    {
     "name": "stdout",
     "output_type": "stream",
     "text": [
      "Number of violations: 0 violations\n"
     ]
    }
   ],
   "source": [
    "id_null = menupage_df['id'].isnull()\n",
    "ic_2_1_violations = menupage_df[id_null]\n",
    "overall_violations += len(ic_2_1_violations)\n",
    "print(f'Number of violations: {len(ic_2_1_violations)} violations')"
   ],
   "metadata": {
    "collapsed": false,
    "ExecuteTime": {
     "end_time": "2024-07-25T00:41:52.704883Z",
     "start_time": "2024-07-25T00:41:52.701346Z"
    }
   },
   "id": "a04472342cff0154"
  },
  {
   "cell_type": "markdown",
   "source": [
    "IC 2.2: No menu pages should have the same \"id\""
   ],
   "metadata": {
    "collapsed": false
   },
   "id": "fe82293a744c31ec"
  },
  {
   "cell_type": "code",
   "execution_count": 97,
   "outputs": [
    {
     "name": "stdout",
     "output_type": "stream",
     "text": [
      "Number of violations: 0 violations\n"
     ]
    }
   ],
   "source": [
    "id_duplicates = menupage_df.duplicated('id', keep=False)\n",
    "ic_2_2_violations = menupage_df[id_duplicates]\n",
    "overall_violations += len(ic_2_2_violations)\n",
    "print(f'Number of violations: {len(ic_2_2_violations)} violations')"
   ],
   "metadata": {
    "collapsed": false,
    "ExecuteTime": {
     "end_time": "2024-07-25T00:41:53.156123Z",
     "start_time": "2024-07-25T00:41:53.142550Z"
    }
   },
   "id": "9630e8406b7f7a6c"
  },
  {
   "cell_type": "markdown",
   "source": [
    "## 3. MenuItem Table"
   ],
   "metadata": {
    "collapsed": false
   },
   "id": "7f8a316fd290b9a5"
  },
  {
   "cell_type": "code",
   "execution_count": 98,
   "outputs": [],
   "source": [
    "menuitem_df = pd.read_feather(\"../Data Files/MenuItem.feather\")"
   ],
   "metadata": {
    "collapsed": false,
    "ExecuteTime": {
     "end_time": "2024-07-25T00:41:54.924324Z",
     "start_time": "2024-07-25T00:41:53.583649Z"
    }
   },
   "id": "b0e282eba37d2f6"
  },
  {
   "cell_type": "markdown",
   "source": [
    "IC 3.1: No menu items should have a null \"id\""
   ],
   "metadata": {
    "collapsed": false
   },
   "id": "4c8f94a452b25334"
  },
  {
   "cell_type": "code",
   "execution_count": 99,
   "outputs": [
    {
     "name": "stdout",
     "output_type": "stream",
     "text": [
      "Number of violations: 0 violations\n"
     ]
    }
   ],
   "source": [
    "id_null = menuitem_df['id'].isnull()\n",
    "ic_3_1_violations = menuitem_df[id_null]\n",
    "overall_violations += len(ic_3_1_violations)\n",
    "print(f'Number of violations: {len(ic_3_1_violations)} violations')"
   ],
   "metadata": {
    "collapsed": false,
    "ExecuteTime": {
     "end_time": "2024-07-25T00:41:54.936336Z",
     "start_time": "2024-07-25T00:41:54.928449Z"
    }
   },
   "id": "c4af2823711fa1ea"
  },
  {
   "cell_type": "markdown",
   "source": [
    "IC 3.2: No menu items should have the same \"id\""
   ],
   "metadata": {
    "collapsed": false
   },
   "id": "700a9b8a3c2623e6"
  },
  {
   "cell_type": "code",
   "execution_count": 100,
   "outputs": [
    {
     "name": "stdout",
     "output_type": "stream",
     "text": [
      "Number of violations: 0 violations\n"
     ]
    }
   ],
   "source": [
    "id_duplicates = menuitem_df.duplicated('id', keep=False)\n",
    "ic_3_2_violations = menuitem_df[id_duplicates]\n",
    "overall_violations += len(ic_3_2_violations)\n",
    "print(f'Number of violations: {len(ic_3_2_violations)} violations')"
   ],
   "metadata": {
    "collapsed": false,
    "ExecuteTime": {
     "end_time": "2024-07-25T00:41:54.985188Z",
     "start_time": "2024-07-25T00:41:54.934261Z"
    }
   },
   "id": "a970b0642a066af3"
  },
  {
   "cell_type": "markdown",
   "source": [
    "## 4. Dish Table"
   ],
   "metadata": {
    "collapsed": false
   },
   "id": "7d5adb23d9ef19d9"
  },
  {
   "cell_type": "code",
   "execution_count": 101,
   "outputs": [],
   "source": [
    "dish_df = pd.read_feather(\"../Data Files/Dish.feather\")"
   ],
   "metadata": {
    "collapsed": false,
    "ExecuteTime": {
     "end_time": "2024-07-25T00:41:55.484195Z",
     "start_time": "2024-07-25T00:41:55.289461Z"
    }
   },
   "id": "271ce7cdf87ec4"
  },
  {
   "cell_type": "markdown",
   "source": [
    "IC 4.1: No menus should have a null \"id\""
   ],
   "metadata": {
    "collapsed": false
   },
   "id": "4fe9d81d25c06b46"
  },
  {
   "cell_type": "code",
   "execution_count": 102,
   "outputs": [
    {
     "name": "stdout",
     "output_type": "stream",
     "text": [
      "Number of violations: 0 violations\n"
     ]
    }
   ],
   "source": [
    "id_null = dish_df['id'].isnull()\n",
    "ic_4_1_violations = dish_df[id_null]\n",
    "overall_violations += len(ic_4_1_violations)\n",
    "print(f'Number of violations: {len(ic_4_1_violations)} violations')"
   ],
   "metadata": {
    "collapsed": false,
    "ExecuteTime": {
     "end_time": "2024-07-25T00:41:55.950303Z",
     "start_time": "2024-07-25T00:41:55.888298Z"
    }
   },
   "id": "e72a2c290e6a5eab"
  },
  {
   "cell_type": "markdown",
   "source": [
    "IC 4.2: No dishes should have the same \"id\""
   ],
   "metadata": {
    "collapsed": false
   },
   "id": "e01a376e9ba30e67"
  },
  {
   "cell_type": "code",
   "execution_count": 103,
   "outputs": [
    {
     "name": "stdout",
     "output_type": "stream",
     "text": [
      "Number of violations: 0 violations\n"
     ]
    }
   ],
   "source": [
    "id_duplicates = dish_df.duplicated('id', keep=False)\n",
    "ic_4_2_violations = dish_df[id_duplicates]\n",
    "overall_violations += len(ic_4_2_violations)\n",
    "print(f'Number of violations: {len(ic_4_2_violations)} violations')"
   ],
   "metadata": {
    "collapsed": false,
    "ExecuteTime": {
     "end_time": "2024-07-25T00:41:56.464674Z",
     "start_time": "2024-07-25T00:41:56.451806Z"
    }
   },
   "id": "f6a84a0fe3aa779a"
  },
  {
   "cell_type": "markdown",
   "source": [
    "## Overall"
   ],
   "metadata": {
    "collapsed": false
   },
   "id": "22cf0fea3c213f12"
  },
  {
   "cell_type": "code",
   "execution_count": 104,
   "outputs": [
    {
     "name": "stdout",
     "output_type": "stream",
     "text": [
      "Overall number of violations: 0 violations\n"
     ]
    }
   ],
   "source": [
    "print(f'Overall number of violations: {overall_violations} violations')"
   ],
   "metadata": {
    "collapsed": false,
    "ExecuteTime": {
     "end_time": "2024-07-25T00:41:57.097669Z",
     "start_time": "2024-07-25T00:41:57.093580Z"
    }
   },
   "id": "b1d02182505aa17b"
  },
  {
   "cell_type": "code",
   "execution_count": null,
   "outputs": [],
   "source": [],
   "metadata": {
    "collapsed": false
   },
   "id": "a3069dc22b6dad20"
  }
 ],
 "metadata": {
  "kernelspec": {
   "display_name": "Python 3",
   "language": "python",
   "name": "python3"
  },
  "language_info": {
   "codemirror_mode": {
    "name": "ipython",
    "version": 2
   },
   "file_extension": ".py",
   "mimetype": "text/x-python",
   "name": "python",
   "nbconvert_exporter": "python",
   "pygments_lexer": "ipython2",
   "version": "2.7.6"
  }
 },
 "nbformat": 4,
 "nbformat_minor": 5
}
