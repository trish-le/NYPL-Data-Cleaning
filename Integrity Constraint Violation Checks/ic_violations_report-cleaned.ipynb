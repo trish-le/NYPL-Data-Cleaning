{
 "cells": [
  {
   "cell_type": "markdown",
   "source": [
    "# Integrity Constraint Violations\n",
    "\n",
    "In this report, the total number of integrity constraint violations is calculated for each data table. \n",
    "\n",
    "The overall number of integrity constraint violations across all data tables is calculated at the end."
   ],
   "metadata": {
    "collapsed": false
   },
   "id": "e57504e1be31877d"
  },
  {
   "cell_type": "code",
   "execution_count": 76,
   "outputs": [],
   "source": [
    "import pandas as pd\n",
    "from datetime import datetime"
   ],
   "metadata": {
    "collapsed": false,
    "ExecuteTime": {
     "end_time": "2024-07-25T20:55:06.123065Z",
     "start_time": "2024-07-25T20:55:05.785526Z"
    }
   },
   "id": "c17d7729279dabe3"
  },
  {
   "cell_type": "code",
   "execution_count": 77,
   "outputs": [],
   "source": [
    "# Read in data sets\n",
    "menu_df = pd.read_feather(\"../Cleaned Data Files/Menu-cleaned.feather\")\n",
    "menupage_df = pd.read_feather(\"../Cleaned Data Files/MenuPage-cleaned.feather\")\n",
    "menuitem_df = pd.read_feather(\"../Cleaned Data Files/MenuItem-cleaned.feather\")\n",
    "dish_df = pd.read_feather(\"../Cleaned Data Files/Dish-cleaned.feather\")\n",
    "\n",
    "# Reset overall violations\n",
    "overall_violations = 0\n",
    "menu_violations = 0\n",
    "menupage_violations = 0\n",
    "menuitem_violations = 0\n",
    "dish_violations = 0"
   ],
   "metadata": {
    "collapsed": false,
    "ExecuteTime": {
     "end_time": "2024-07-25T20:55:07.130083Z",
     "start_time": "2024-07-25T20:55:05.789957Z"
    }
   },
   "id": "ffa5ba7c0b75ecdf"
  },
  {
   "cell_type": "markdown",
   "source": [
    "## 1. Menu"
   ],
   "metadata": {
    "collapsed": false
   },
   "id": "be5b1b41be330e61"
  },
  {
   "cell_type": "markdown",
   "source": [
    "IC 1.1: No menus should have a null \"id\""
   ],
   "metadata": {
    "collapsed": false
   },
   "id": "43305d09f7e1fb49"
  },
  {
   "cell_type": "code",
   "execution_count": 78,
   "outputs": [
    {
     "name": "stdout",
     "output_type": "stream",
     "text": [
      "Number of violations: 0 violations\n"
     ]
    }
   ],
   "source": [
    "id_null = menu_df['id'].isnull()\n",
    "ic_1_1_violations = menu_df[id_null]\n",
    "overall_violations += len(ic_1_1_violations)\n",
    "menu_violations += len(ic_1_1_violations)\n",
    "print(f'Number of violations: {len(ic_1_1_violations)} violations')"
   ],
   "metadata": {
    "collapsed": false,
    "ExecuteTime": {
     "end_time": "2024-07-25T20:55:07.140518Z",
     "start_time": "2024-07-25T20:55:06.727395Z"
    }
   },
   "id": "4edb0cc463a7f5c0"
  },
  {
   "cell_type": "markdown",
   "source": [
    "IC 1.2: No menus should have the same \"id\""
   ],
   "metadata": {
    "collapsed": false
   },
   "id": "876c370e77495388"
  },
  {
   "cell_type": "code",
   "execution_count": 79,
   "outputs": [
    {
     "name": "stdout",
     "output_type": "stream",
     "text": [
      "Number of violations: 0 violations\n"
     ]
    }
   ],
   "source": [
    "id_duplicates = menu_df.duplicated('id', keep=False)\n",
    "ic_1_2_violations = menu_df[id_duplicates]\n",
    "overall_violations += len(ic_1_2_violations)\n",
    "menu_violations += len(ic_1_2_violations)\n",
    "print(f'Number of violations: {len(ic_1_2_violations)} violations')"
   ],
   "metadata": {
    "collapsed": false,
    "ExecuteTime": {
     "end_time": "2024-07-25T20:55:07.140880Z",
     "start_time": "2024-07-25T20:55:06.734089Z"
    }
   },
   "id": "c3ffc1382f982c65"
  },
  {
   "cell_type": "markdown",
   "source": [
    "IC 1.3: No menus should have a null \"sponsor\""
   ],
   "metadata": {
    "collapsed": false
   },
   "id": "289502129bb36624"
  },
  {
   "cell_type": "code",
   "execution_count": 80,
   "outputs": [
    {
     "name": "stdout",
     "output_type": "stream",
     "text": [
      "Number of violations: 0 violations\n"
     ]
    }
   ],
   "source": [
    "sponsor_null = menu_df['sponsor'].isnull()\n",
    "ic_1_3_violations = menu_df[sponsor_null]\n",
    "overall_violations += len(ic_1_3_violations)\n",
    "menu_violations += len(ic_1_3_violations)\n",
    "print(f'Number of violations: {len(ic_1_3_violations)} violations')"
   ],
   "metadata": {
    "collapsed": false,
    "ExecuteTime": {
     "end_time": "2024-07-25T20:55:07.141081Z",
     "start_time": "2024-07-25T20:55:06.743677Z"
    }
   },
   "id": "3556fb836fd6601"
  },
  {
   "cell_type": "markdown",
   "source": [
    "## 2. MenuPage Table"
   ],
   "metadata": {
    "collapsed": false
   },
   "id": "8b46e746c2c6f4ed"
  },
  {
   "cell_type": "markdown",
   "source": [
    "IC 2.1: No menus pages should have a null \"id\""
   ],
   "metadata": {
    "collapsed": false
   },
   "id": "d633e352d24e6106"
  },
  {
   "cell_type": "code",
   "execution_count": 81,
   "outputs": [
    {
     "name": "stdout",
     "output_type": "stream",
     "text": [
      "Number of violations: 0 violations\n"
     ]
    }
   ],
   "source": [
    "id_null = menupage_df['id'].isnull()\n",
    "ic_2_1_violations = menupage_df[id_null]\n",
    "overall_violations += len(ic_2_1_violations)\n",
    "menupage_violations += len(ic_2_1_violations)\n",
    "print(f'Number of violations: {len(ic_2_1_violations)} violations')"
   ],
   "metadata": {
    "collapsed": false,
    "ExecuteTime": {
     "end_time": "2024-07-25T20:55:07.141268Z",
     "start_time": "2024-07-25T20:55:06.753488Z"
    }
   },
   "id": "a04472342cff0154"
  },
  {
   "cell_type": "markdown",
   "source": [
    "IC 2.2: No menu pages should have the same \"id\""
   ],
   "metadata": {
    "collapsed": false
   },
   "id": "fe82293a744c31ec"
  },
  {
   "cell_type": "code",
   "execution_count": 82,
   "outputs": [
    {
     "name": "stdout",
     "output_type": "stream",
     "text": [
      "Number of violations: 0 violations\n"
     ]
    }
   ],
   "source": [
    "id_duplicates = menupage_df.duplicated('id', keep=False)\n",
    "ic_2_2_violations = menupage_df[id_duplicates]\n",
    "overall_violations += len(ic_2_2_violations)\n",
    "menupage_violations += len(ic_2_2_violations)\n",
    "print(f'Number of violations: {len(ic_2_2_violations)} violations')"
   ],
   "metadata": {
    "collapsed": false,
    "ExecuteTime": {
     "end_time": "2024-07-25T20:55:07.141444Z",
     "start_time": "2024-07-25T20:55:06.759011Z"
    }
   },
   "id": "9630e8406b7f7a6c"
  },
  {
   "cell_type": "markdown",
   "source": [
    "IC 2.3: No menu pages should have a null \"menu_id\""
   ],
   "metadata": {
    "collapsed": false
   },
   "id": "c492b4ede9260476"
  },
  {
   "cell_type": "code",
   "execution_count": 83,
   "outputs": [
    {
     "name": "stdout",
     "output_type": "stream",
     "text": [
      "Number of violations: 0 violations\n"
     ]
    }
   ],
   "source": [
    "menuid_null = menupage_df['menu_id'].isnull()\n",
    "ic_2_3_violations = menupage_df[menuid_null]\n",
    "overall_violations += len(ic_2_3_violations)\n",
    "menupage_violations += len(ic_2_3_violations)\n",
    "print(f'Number of violations: {len(ic_2_3_violations)} violations')"
   ],
   "metadata": {
    "collapsed": false,
    "ExecuteTime": {
     "end_time": "2024-07-25T20:55:07.141625Z",
     "start_time": "2024-07-25T20:55:06.765267Z"
    }
   },
   "id": "93e95e87ca508e00"
  },
  {
   "cell_type": "markdown",
   "source": [
    "IC 2.4: Each menu page should reference an existing \"menu_id\" -> Menu(id)"
   ],
   "metadata": {
    "collapsed": false
   },
   "id": "d5e6e0eec6dbaba0"
  },
  {
   "cell_type": "code",
   "execution_count": 84,
   "outputs": [
    {
     "name": "stdout",
     "output_type": "stream",
     "text": [
      "Number of violations: 0 violations\n"
     ]
    }
   ],
   "source": [
    "valid_menu_ids = set(menu_df['id'])\n",
    "menupage_menuids = set(menupage_df['menu_id'])\n",
    "ic_2_4_violations = menupage_menuids - valid_menu_ids\n",
    "\n",
    "overall_violations += len(ic_2_4_violations)\n",
    "menupage_violations += len(ic_2_4_violations)\n",
    "print(f'Number of violations: {len(ic_2_4_violations)} violations')"
   ],
   "metadata": {
    "collapsed": false,
    "ExecuteTime": {
     "end_time": "2024-07-25T20:55:07.141810Z",
     "start_time": "2024-07-25T20:55:06.785143Z"
    }
   },
   "id": "a54047bbc10eb260"
  },
  {
   "cell_type": "markdown",
   "source": [],
   "metadata": {
    "collapsed": false
   },
   "id": "e3e71bee67f7e6d3"
  },
  {
   "cell_type": "markdown",
   "source": [
    "## 3. MenuItem Table"
   ],
   "metadata": {
    "collapsed": false
   },
   "id": "7f8a316fd290b9a5"
  },
  {
   "cell_type": "markdown",
   "source": [
    "IC 3.1: No menu items should have a null \"id\""
   ],
   "metadata": {
    "collapsed": false
   },
   "id": "4c8f94a452b25334"
  },
  {
   "cell_type": "code",
   "execution_count": 85,
   "outputs": [
    {
     "name": "stdout",
     "output_type": "stream",
     "text": [
      "Number of violations: 0 violations\n"
     ]
    }
   ],
   "source": [
    "id_null = menuitem_df['id'].isnull()\n",
    "ic_3_1_violations = menuitem_df[id_null]\n",
    "overall_violations += len(ic_3_1_violations)\n",
    "menuitem_violations += len(ic_3_1_violations)\n",
    "print(f'Number of violations: {len(ic_3_1_violations)} violations')"
   ],
   "metadata": {
    "collapsed": false,
    "ExecuteTime": {
     "end_time": "2024-07-25T20:55:07.142252Z",
     "start_time": "2024-07-25T20:55:06.790161Z"
    }
   },
   "id": "c4af2823711fa1ea"
  },
  {
   "cell_type": "markdown",
   "source": [
    "IC 3.2: No menu items should have the same \"id\""
   ],
   "metadata": {
    "collapsed": false
   },
   "id": "700a9b8a3c2623e6"
  },
  {
   "cell_type": "code",
   "execution_count": 86,
   "outputs": [
    {
     "name": "stdout",
     "output_type": "stream",
     "text": [
      "Number of violations: 0 violations\n"
     ]
    }
   ],
   "source": [
    "id_duplicates = menuitem_df.duplicated('id', keep=False)\n",
    "ic_3_2_violations = menuitem_df[id_duplicates]\n",
    "overall_violations += len(ic_3_2_violations)\n",
    "menuitem_violations += len(ic_3_2_violations)\n",
    "print(f'Number of violations: {len(ic_3_2_violations)} violations')"
   ],
   "metadata": {
    "collapsed": false,
    "ExecuteTime": {
     "end_time": "2024-07-25T20:55:07.142485Z",
     "start_time": "2024-07-25T20:55:06.798397Z"
    }
   },
   "id": "a970b0642a066af3"
  },
  {
   "cell_type": "markdown",
   "source": [
    "IC 3.3: No menu items should have a null \"menu_page_id\""
   ],
   "metadata": {
    "collapsed": false
   },
   "id": "53ed62e31a6fac73"
  },
  {
   "cell_type": "code",
   "execution_count": 87,
   "outputs": [
    {
     "name": "stdout",
     "output_type": "stream",
     "text": [
      "Number of violations: 0 violations\n"
     ]
    }
   ],
   "source": [
    "menupageid_null = menuitem_df['menu_page_id'].isnull()\n",
    "ic_3_3_violations = menuitem_df[menupageid_null]\n",
    "overall_violations += len(ic_3_3_violations)\n",
    "menuitem_violations += len(ic_3_3_violations)\n",
    "print(f'Number of violations: {len(ic_3_3_violations)} violations')"
   ],
   "metadata": {
    "collapsed": false,
    "ExecuteTime": {
     "end_time": "2024-07-25T20:55:07.142693Z",
     "start_time": "2024-07-25T20:55:06.833200Z"
    }
   },
   "id": "9c7b0b225cbadbc7"
  },
  {
   "cell_type": "markdown",
   "source": [
    "IC 3.4: Each menu item should reference an existing \"menu_page_id\" -> MenuPage(id)"
   ],
   "metadata": {
    "collapsed": false
   },
   "id": "800a0d5cf3db7581"
  },
  {
   "cell_type": "code",
   "execution_count": 88,
   "outputs": [
    {
     "name": "stdout",
     "output_type": "stream",
     "text": [
      "Number of violations: 0 violations\n"
     ]
    }
   ],
   "source": [
    "valid_menupage_ids = set(menupage_df['id'])\n",
    "menuitem_menupageids = set(menuitem_df['menu_page_id'])\n",
    "ic_3_4_violations = menuitem_menupageids - valid_menupage_ids\n",
    "\n",
    "overall_violations += len(ic_3_4_violations)\n",
    "menuitem_violations += len(ic_3_4_violations)\n",
    "print(f'Number of violations: {len(ic_3_4_violations)} violations')"
   ],
   "metadata": {
    "collapsed": false,
    "ExecuteTime": {
     "end_time": "2024-07-25T20:55:07.142884Z",
     "start_time": "2024-07-25T20:55:07.018942Z"
    }
   },
   "id": "c2dc29fd26b895f1"
  },
  {
   "cell_type": "markdown",
   "source": [
    "IC 3.5: No menu items should have a null \"dish_id\""
   ],
   "metadata": {
    "collapsed": false
   },
   "id": "c735190c15fe4398"
  },
  {
   "cell_type": "code",
   "execution_count": 89,
   "outputs": [
    {
     "name": "stdout",
     "output_type": "stream",
     "text": [
      "Number of violations: 0 violations\n"
     ]
    }
   ],
   "source": [
    "menupageid_null = menuitem_df['dish_id'].isnull()\n",
    "ic_3_5_violations = menuitem_df[menupageid_null]\n",
    "overall_violations += len(ic_3_5_violations)\n",
    "menuitem_violations += len(ic_3_5_violations)\n",
    "print(f'Number of violations: {len(ic_3_5_violations)} violations')"
   ],
   "metadata": {
    "collapsed": false,
    "ExecuteTime": {
     "end_time": "2024-07-25T20:55:07.143486Z",
     "start_time": "2024-07-25T20:55:07.024287Z"
    }
   },
   "id": "29d3ada71fc91da0"
  },
  {
   "cell_type": "markdown",
   "source": [
    "IC 3.6: Each menu item should reference an existing \"dish_id\" -> Dish(id)"
   ],
   "metadata": {
    "collapsed": false
   },
   "id": "a11b23a3a47f5f4d"
  },
  {
   "cell_type": "code",
   "execution_count": 90,
   "outputs": [
    {
     "name": "stdout",
     "output_type": "stream",
     "text": [
      "Number of violations: 0 violations\n"
     ]
    }
   ],
   "source": [
    "valid_dish_ids = set(dish_df['id'])\n",
    "menuitem_dishids = set(menuitem_df['dish_id'])\n",
    "ic_3_6_violations = menuitem_dishids - valid_dish_ids\n",
    "\n",
    "overall_violations += len(ic_3_6_violations)\n",
    "menuitem_violations += len(ic_3_6_violations)\n",
    "print(f'Number of violations: {len(ic_3_6_violations)} violations')"
   ],
   "metadata": {
    "collapsed": false,
    "ExecuteTime": {
     "end_time": "2024-07-25T20:55:07.569977Z",
     "start_time": "2024-07-25T20:55:07.085582Z"
    }
   },
   "id": "6b0259c48b7e58b5"
  },
  {
   "cell_type": "markdown",
   "source": [
    "## 4. Dish Table"
   ],
   "metadata": {
    "collapsed": false
   },
   "id": "7d5adb23d9ef19d9"
  },
  {
   "cell_type": "markdown",
   "source": [
    "IC 4.1: No menus should have a null \"id\""
   ],
   "metadata": {
    "collapsed": false
   },
   "id": "4fe9d81d25c06b46"
  },
  {
   "cell_type": "code",
   "execution_count": 91,
   "outputs": [
    {
     "name": "stdout",
     "output_type": "stream",
     "text": [
      "Number of violations: 0 violations\n"
     ]
    }
   ],
   "source": [
    "id_null = dish_df['id'].isnull()\n",
    "ic_4_1_violations = dish_df[id_null]\n",
    "overall_violations += len(ic_4_1_violations)\n",
    "dish_violations += len(ic_4_1_violations)\n",
    "print(f'Number of violations: {len(ic_4_1_violations)} violations')"
   ],
   "metadata": {
    "collapsed": false,
    "ExecuteTime": {
     "end_time": "2024-07-25T20:55:07.570330Z",
     "start_time": "2024-07-25T20:55:07.267494Z"
    }
   },
   "id": "e72a2c290e6a5eab"
  },
  {
   "cell_type": "markdown",
   "source": [
    "IC 4.2: No dishes should have the same \"id\""
   ],
   "metadata": {
    "collapsed": false
   },
   "id": "e01a376e9ba30e67"
  },
  {
   "cell_type": "code",
   "execution_count": 92,
   "outputs": [
    {
     "name": "stdout",
     "output_type": "stream",
     "text": [
      "Number of violations: 0 violations\n"
     ]
    }
   ],
   "source": [
    "id_duplicates = dish_df.duplicated('id', keep=False)\n",
    "ic_4_2_violations = dish_df[id_duplicates]\n",
    "overall_violations += len(ic_4_2_violations)\n",
    "dish_violations += len(ic_4_2_violations)\n",
    "print(f'Number of violations: {len(ic_4_2_violations)} violations')"
   ],
   "metadata": {
    "collapsed": false,
    "ExecuteTime": {
     "end_time": "2024-07-25T20:55:07.570532Z",
     "start_time": "2024-07-25T20:55:07.273386Z"
    }
   },
   "id": "f6a84a0fe3aa779a"
  },
  {
   "cell_type": "markdown",
   "source": [
    "IC 4.3: Dishes should have a valid value (non-negative) for \"menus_appeared\""
   ],
   "metadata": {
    "collapsed": false
   },
   "id": "c7a3ee2db66ea771"
  },
  {
   "cell_type": "code",
   "execution_count": 93,
   "outputs": [
    {
     "name": "stdout",
     "output_type": "stream",
     "text": [
      "Number of violations: 0 violations\n"
     ]
    }
   ],
   "source": [
    "ic_4_3_violations = dish_df[dish_df['menus_appeared'] < 0]\n",
    "overall_violations += len(ic_4_3_violations)\n",
    "dish_violations += len(ic_4_3_violations)\n",
    "print(f'Number of violations: {len(ic_4_3_violations)} violations')"
   ],
   "metadata": {
    "collapsed": false,
    "ExecuteTime": {
     "end_time": "2024-07-25T20:55:07.570764Z",
     "start_time": "2024-07-25T20:55:07.287370Z"
    }
   },
   "id": "7bffa5072980bf0a"
  },
  {
   "cell_type": "markdown",
   "source": [
    "IC 4.4: Dishes should have a valid value (non-negative) for \"times_appeared\""
   ],
   "metadata": {
    "collapsed": false
   },
   "id": "5a2befd96f9c8aa3"
  },
  {
   "cell_type": "code",
   "execution_count": 94,
   "outputs": [
    {
     "name": "stdout",
     "output_type": "stream",
     "text": [
      "Number of violations: 0 violations\n"
     ]
    }
   ],
   "source": [
    "ic_4_4_violations = dish_df[dish_df['times_appeared'] < 0]\n",
    "overall_violations += len(ic_4_4_violations)\n",
    "dish_violations += len(ic_4_4_violations)\n",
    "print(f'Number of violations: {len(ic_4_4_violations)} violations')"
   ],
   "metadata": {
    "collapsed": false,
    "ExecuteTime": {
     "end_time": "2024-07-25T20:55:07.571040Z",
     "start_time": "2024-07-25T20:55:07.292031Z"
    }
   },
   "id": "452760b7e74f8de7"
  },
  {
   "cell_type": "markdown",
   "source": [
    "IC 4.5: Dishes should have a valid year value for \"first_appeared\""
   ],
   "metadata": {
    "collapsed": false
   },
   "id": "d368496d4d98a8a0"
  },
  {
   "cell_type": "code",
   "execution_count": 95,
   "outputs": [
    {
     "name": "stdout",
     "output_type": "stream",
     "text": [
      "Number of violations: 0 violations\n"
     ]
    }
   ],
   "source": [
    "current_year = datetime.now().year\n",
    "ic_4_5_violations = dish_df[(dish_df['first_appeared'] <= 0) | (dish_df['first_appeared'] > current_year)]\n",
    "overall_violations += len(ic_4_5_violations)\n",
    "dish_violations += len(ic_4_5_violations)\n",
    "print(f'Number of violations: {len(ic_4_5_violations)} violations')"
   ],
   "metadata": {
    "collapsed": false,
    "ExecuteTime": {
     "end_time": "2024-07-25T20:55:07.571228Z",
     "start_time": "2024-07-25T20:55:07.298926Z"
    }
   },
   "id": "f135f2d018f8b56d"
  },
  {
   "cell_type": "markdown",
   "source": [
    "IC 4.6: Dishes should have a valid year value for \"last_appeared\""
   ],
   "metadata": {
    "collapsed": false
   },
   "id": "3d1b6d1bb3c76a6b"
  },
  {
   "cell_type": "code",
   "execution_count": 96,
   "outputs": [
    {
     "name": "stdout",
     "output_type": "stream",
     "text": [
      "Number of violations: 0 violations\n"
     ]
    }
   ],
   "source": [
    "current_year = datetime.now().year\n",
    "ic_4_6_violations = dish_df[(dish_df['last_appeared'] <= 0) | (dish_df['last_appeared'] > current_year)]\n",
    "overall_violations += len(ic_4_6_violations)\n",
    "dish_violations += len(ic_4_6_violations)\n",
    "print(f'Number of violations: {len(ic_4_6_violations)} violations')"
   ],
   "metadata": {
    "collapsed": false,
    "ExecuteTime": {
     "end_time": "2024-07-25T20:55:07.571434Z",
     "start_time": "2024-07-25T20:55:07.304167Z"
    }
   },
   "id": "c5b8dd56836364ac"
  },
  {
   "cell_type": "markdown",
   "source": [
    "IC 4.7: Dishes should not have a year value for last_appeared that occurs before first_appeared"
   ],
   "metadata": {
    "collapsed": false
   },
   "id": "522c221821a26982"
  },
  {
   "cell_type": "code",
   "execution_count": 97,
   "outputs": [
    {
     "name": "stdout",
     "output_type": "stream",
     "text": [
      "Number of violations: 0 violations\n"
     ]
    }
   ],
   "source": [
    "ic_4_7_violations = dish_df[dish_df['last_appeared'] < dish_df['first_appeared']]\n",
    "overall_violations += len(ic_4_7_violations)\n",
    "dish_violations += len(ic_4_7_violations)\n",
    "print(f'Number of violations: {len(ic_4_7_violations)} violations')"
   ],
   "metadata": {
    "collapsed": false,
    "ExecuteTime": {
     "end_time": "2024-07-25T20:55:07.571602Z",
     "start_time": "2024-07-25T20:55:07.310144Z"
    }
   },
   "id": "9e9ed02a5c1a264a"
  },
  {
   "cell_type": "markdown",
   "source": [
    "IC 4.8: Dishes should have a valid value (non-negative) for \"lowest_price\""
   ],
   "metadata": {
    "collapsed": false
   },
   "id": "b1c7a7bf8358830"
  },
  {
   "cell_type": "code",
   "execution_count": 98,
   "outputs": [
    {
     "name": "stdout",
     "output_type": "stream",
     "text": [
      "Number of violations: 0 violations\n"
     ]
    }
   ],
   "source": [
    "ic_4_8_violations = dish_df[dish_df['lowest_price'] < 0]\n",
    "overall_violations += len(ic_4_8_violations)\n",
    "dish_violations += len(ic_4_8_violations)\n",
    "print(f'Number of violations: {len(ic_4_8_violations)} violations')"
   ],
   "metadata": {
    "collapsed": false,
    "ExecuteTime": {
     "end_time": "2024-07-25T20:55:07.571758Z",
     "start_time": "2024-07-25T20:55:07.318763Z"
    }
   },
   "id": "6ec80f9f05af08b8"
  },
  {
   "cell_type": "markdown",
   "source": [
    "IC 4.9: Dishes should have a valid value (non-negative) for \"highest_price\""
   ],
   "metadata": {
    "collapsed": false
   },
   "id": "6c56e7b013d4cf99"
  },
  {
   "cell_type": "code",
   "execution_count": 99,
   "outputs": [
    {
     "name": "stdout",
     "output_type": "stream",
     "text": [
      "Number of violations: 0 violations\n"
     ]
    }
   ],
   "source": [
    "ic_4_9_violations = dish_df[dish_df['highest_price'] < 0]\n",
    "overall_violations += len(ic_4_9_violations)\n",
    "dish_violations += len(ic_4_9_violations)\n",
    "print(f'Number of violations: {len(ic_4_9_violations)} violations')"
   ],
   "metadata": {
    "collapsed": false,
    "ExecuteTime": {
     "end_time": "2024-07-25T20:55:07.571920Z",
     "start_time": "2024-07-25T20:55:07.330231Z"
    }
   },
   "id": "1b7b14d6c73a7dd1"
  },
  {
   "cell_type": "markdown",
   "source": [
    "IC 4.10: Dishes should not have a \"highest_price\" less than the \"lowest_price\""
   ],
   "metadata": {
    "collapsed": false
   },
   "id": "c0e87499cb8a626c"
  },
  {
   "cell_type": "code",
   "execution_count": 100,
   "outputs": [
    {
     "name": "stdout",
     "output_type": "stream",
     "text": [
      "Number of violations: 0 violations\n"
     ]
    }
   ],
   "source": [
    "ic_4_10_violations = dish_df[dish_df['highest_price'] < dish_df['lowest_price']]\n",
    "overall_violations += len(ic_4_10_violations)\n",
    "dish_violations += len(ic_4_10_violations)\n",
    "print(f'Number of violations: {len(ic_4_10_violations)} violations')"
   ],
   "metadata": {
    "collapsed": false,
    "ExecuteTime": {
     "end_time": "2024-07-25T20:55:07.572078Z",
     "start_time": "2024-07-25T20:55:07.335260Z"
    }
   },
   "id": "8a7e613cf7761201"
  },
  {
   "cell_type": "markdown",
   "source": [
    "## Overall"
   ],
   "metadata": {
    "collapsed": false
   },
   "id": "22cf0fea3c213f12"
  },
  {
   "cell_type": "code",
   "execution_count": 101,
   "outputs": [
    {
     "name": "stdout",
     "output_type": "stream",
     "text": [
      "Overall number of violations: 0 violations\n"
     ]
    }
   ],
   "source": [
    "print(f'Overall number of violations: {overall_violations} violations')"
   ],
   "metadata": {
    "collapsed": false,
    "ExecuteTime": {
     "end_time": "2024-07-25T20:55:07.572228Z",
     "start_time": "2024-07-25T20:55:07.340791Z"
    }
   },
   "id": "b1d02182505aa17b"
  },
  {
   "cell_type": "code",
   "execution_count": 102,
   "outputs": [
    {
     "name": "stdout",
     "output_type": "stream",
     "text": [
      "Total number of violations for Menu Table: 0 violations\n"
     ]
    }
   ],
   "source": [
    "print(f'Total number of violations for Menu Table: {menu_violations} violations')"
   ],
   "metadata": {
    "collapsed": false,
    "ExecuteTime": {
     "end_time": "2024-07-25T20:55:07.572387Z",
     "start_time": "2024-07-25T20:55:07.346314Z"
    }
   },
   "id": "d309b174b9c8107c"
  },
  {
   "cell_type": "code",
   "execution_count": 103,
   "outputs": [
    {
     "name": "stdout",
     "output_type": "stream",
     "text": [
      "Total number of violations for MenuPage Table: 0 violations\n"
     ]
    }
   ],
   "source": [
    "print(f'Total number of violations for MenuPage Table: {menupage_violations} violations')"
   ],
   "metadata": {
    "collapsed": false,
    "ExecuteTime": {
     "end_time": "2024-07-25T20:55:07.572604Z",
     "start_time": "2024-07-25T20:55:07.351137Z"
    }
   },
   "id": "a430e34c1f2255e0"
  },
  {
   "cell_type": "code",
   "execution_count": 104,
   "outputs": [
    {
     "name": "stdout",
     "output_type": "stream",
     "text": [
      "Total number of violations for MenuItem Table: 0 violations\n"
     ]
    }
   ],
   "source": [
    "print(f'Total number of violations for MenuItem Table: {menuitem_violations} violations')"
   ],
   "metadata": {
    "collapsed": false,
    "ExecuteTime": {
     "end_time": "2024-07-25T20:55:07.586165Z",
     "start_time": "2024-07-25T20:55:07.355720Z"
    }
   },
   "id": "a8fe96b60302170a"
  },
  {
   "cell_type": "code",
   "execution_count": 105,
   "outputs": [
    {
     "name": "stdout",
     "output_type": "stream",
     "text": [
      "Total number of violations for Dish Table: 0 violations\n"
     ]
    }
   ],
   "source": [
    "print(f'Total number of violations for Dish Table: {dish_violations} violations')"
   ],
   "metadata": {
    "collapsed": false,
    "ExecuteTime": {
     "end_time": "2024-07-25T20:55:07.586569Z",
     "start_time": "2024-07-25T20:55:07.360595Z"
    }
   },
   "id": "b5decbdbb9b3608d"
  }
 ],
 "metadata": {
  "kernelspec": {
   "display_name": "Python 3",
   "language": "python",
   "name": "python3"
  },
  "language_info": {
   "codemirror_mode": {
    "name": "ipython",
    "version": 2
   },
   "file_extension": ".py",
   "mimetype": "text/x-python",
   "name": "python",
   "nbconvert_exporter": "python",
   "pygments_lexer": "ipython2",
   "version": "2.7.6"
  }
 },
 "nbformat": 4,
 "nbformat_minor": 5
}
