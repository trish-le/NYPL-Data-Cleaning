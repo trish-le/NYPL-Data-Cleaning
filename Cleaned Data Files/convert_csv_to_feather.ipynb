{
 "cells": [
  {
   "cell_type": "code",
   "execution_count": 7,
   "id": "initial_id",
   "metadata": {
    "collapsed": true,
    "ExecuteTime": {
     "end_time": "2024-06-11T00:01:46.544992Z",
     "start_time": "2024-06-11T00:01:46.536349Z"
    }
   },
   "outputs": [],
   "source": [
    "import os\n",
    "import pandas as pd"
   ]
  },
  {
   "cell_type": "code",
   "execution_count": 8,
   "outputs": [],
   "source": [
    "def convert_csv_to_feather(source_dir, target_dir):\n",
    "    # Ensure the target directory exists, then obtain all files in the source directory\n",
    "    os.makedirs(target_dir, exist_ok=True)\n",
    "    files = os.listdir(source_dir)\n",
    "\n",
    "    # Convert csv files to feather files, outputting the feather files in the target directory\n",
    "    for file in files:\n",
    "        if file.endswith('.csv'):\n",
    "            csv_file_path = os.path.join(source_dir, file)\n",
    "            feather_file_path = os.path.join(target_dir, file.replace('.csv', '.feather'))\n",
    "            df = pd.read_csv(csv_file_path)\n",
    "            df.to_feather(feather_file_path)\n",
    "\n",
    "            print(f\"Converted {csv_file_path} to {feather_file_path}\")"
   ],
   "metadata": {
    "collapsed": false,
    "ExecuteTime": {
     "end_time": "2024-06-11T00:01:47.183049Z",
     "start_time": "2024-06-11T00:01:47.180396Z"
    }
   },
   "id": "755aa65d6a58c1f1"
  },
  {
   "cell_type": "code",
   "execution_count": 9,
   "outputs": [
    {
     "name": "stdout",
     "output_type": "stream",
     "text": [
      "Converted CSV/MenuPage.csv to FEATHER/MenuPage.feather\n",
      "Converted CSV/Dish.csv to FEATHER/Dish.feather\n",
      "Converted CSV/Menu.csv to FEATHER/Menu.feather\n",
      "Converted CSV/MenuItem.csv to FEATHER/MenuItem.feather\n"
     ]
    }
   ],
   "source": [
    "source_directory = 'CSV'\n",
    "target_directory = 'FEATHER'\n",
    "convert_csv_to_feather(source_directory, target_directory)"
   ],
   "metadata": {
    "collapsed": false,
    "ExecuteTime": {
     "end_time": "2024-06-11T00:01:50.478808Z",
     "start_time": "2024-06-11T00:01:47.601280Z"
    }
   },
   "id": "cf07c4c5bbeaf846"
  },
  {
   "cell_type": "code",
   "execution_count": null,
   "outputs": [],
   "source": [],
   "metadata": {
    "collapsed": false
   },
   "id": "f0d692319070da7b"
  }
 ],
 "metadata": {
  "kernelspec": {
   "display_name": "Python 3",
   "language": "python",
   "name": "python3"
  },
  "language_info": {
   "codemirror_mode": {
    "name": "ipython",
    "version": 2
   },
   "file_extension": ".py",
   "mimetype": "text/x-python",
   "name": "python",
   "nbconvert_exporter": "python",
   "pygments_lexer": "ipython2",
   "version": "2.7.6"
  }
 },
 "nbformat": 4,
 "nbformat_minor": 5
}
