{
 "cells": [
  {
   "cell_type": "markdown",
   "id": "3068d8a1-8790-4be7-bf56-f80a3d500b7b",
   "metadata": {},
   "source": [
    "# MenuItem Table"
   ]
  },
  {
   "cell_type": "markdown",
   "source": [],
   "metadata": {
    "collapsed": false
   },
   "id": "a3873f38b951a24c"
  },
  {
   "cell_type": "code",
   "id": "initial_id",
   "metadata": {
    "ExecuteTime": {
     "end_time": "2024-07-26T03:05:04.343105Z",
     "start_time": "2024-07-26T03:05:04.075520Z"
    }
   },
   "source": [
    "import pandas as pd\n",
    "import matplotlib.pyplot as plt"
   ],
   "outputs": [],
   "execution_count": 20
  },
  {
   "cell_type": "code",
   "id": "508fad5b1b49b6b5",
   "metadata": {
    "collapsed": false,
    "ExecuteTime": {
     "end_time": "2024-07-26T03:05:04.956265Z",
     "start_time": "2024-07-26T03:05:04.090346Z"
    }
   },
   "source": [
    "df = pd.read_feather(\"../Cleaned Data Files/MenuItem-cleaned.feather\")"
   ],
   "outputs": [],
   "execution_count": 21
  },
  {
   "cell_type": "markdown",
   "id": "29d22fc4-4cbb-4588-93d4-956d545033bc",
   "metadata": {},
   "source": [
    "## Description\n",
    "\n",
    "Each entry is an item (such as a dish) sold through the menu, including the price and when that dish was recorded or modified in the database\n",
    "\n",
    "* There are 1038119 records across 7 columns"
   ]
  },
  {
   "cell_type": "code",
   "id": "ab698fecb84fbfc7",
   "metadata": {
    "collapsed": false,
    "ExecuteTime": {
     "end_time": "2024-07-26T03:05:04.963873Z",
     "start_time": "2024-07-26T03:05:04.959007Z"
    }
   },
   "source": [
    "df.shape"
   ],
   "outputs": [
    {
     "data": {
      "text/plain": "(1038119, 7)"
     },
     "execution_count": 22,
     "metadata": {},
     "output_type": "execute_result"
    }
   ],
   "execution_count": 22
  },
  {
   "cell_type": "code",
   "id": "77f4bd23879e9380",
   "metadata": {
    "collapsed": false,
    "ExecuteTime": {
     "end_time": "2024-07-26T03:05:04.974765Z",
     "start_time": "2024-07-26T03:05:04.967631Z"
    }
   },
   "source": [
    "df.dtypes"
   ],
   "outputs": [
    {
     "data": {
      "text/plain": "id                int64\nmenu_page_id      int64\ndish_id         float64\ncreated_at       object\nupdated_at       object\nxpos            float64\nypos            float64\ndtype: object"
     },
     "execution_count": 23,
     "metadata": {},
     "output_type": "execute_result"
    }
   ],
   "execution_count": 23
  },
  {
   "cell_type": "code",
   "id": "bfb8f397174d513",
   "metadata": {
    "collapsed": false,
    "ExecuteTime": {
     "end_time": "2024-07-26T03:05:05.031727Z",
     "start_time": "2024-07-26T03:05:04.980204Z"
    }
   },
   "source": [
    "df.head(5)"
   ],
   "outputs": [
    {
     "data": {
      "text/plain": "   id  menu_page_id  dish_id               created_at  \\\n0   1          1389      1.0  2011-03-28 15:00:44 UTC   \n1   2          1389      2.0  2011-03-28 15:01:13 UTC   \n2   3          1389      3.0  2011-03-28 15:01:40 UTC   \n3   4          1389      4.0  2011-03-28 15:01:51 UTC   \n4   5          3079      5.0  2011-03-28 15:21:26 UTC   \n\n                updated_at      xpos      ypos  \n0  2011-04-19 04:33:15 UTC  0.111429  0.254735  \n1  2011-04-19 15:00:54 UTC  0.438571  0.254735  \n2  2011-04-19 19:10:05 UTC  0.140000  0.261922  \n3  2011-04-19 19:07:01 UTC  0.377143  0.262720  \n4  2011-04-13 15:25:27 UTC  0.105714  0.313178  ",
      "text/html": "<div>\n<style scoped>\n    .dataframe tbody tr th:only-of-type {\n        vertical-align: middle;\n    }\n\n    .dataframe tbody tr th {\n        vertical-align: top;\n    }\n\n    .dataframe thead th {\n        text-align: right;\n    }\n</style>\n<table border=\"1\" class=\"dataframe\">\n  <thead>\n    <tr style=\"text-align: right;\">\n      <th></th>\n      <th>id</th>\n      <th>menu_page_id</th>\n      <th>dish_id</th>\n      <th>created_at</th>\n      <th>updated_at</th>\n      <th>xpos</th>\n      <th>ypos</th>\n    </tr>\n  </thead>\n  <tbody>\n    <tr>\n      <th>0</th>\n      <td>1</td>\n      <td>1389</td>\n      <td>1.0</td>\n      <td>2011-03-28 15:00:44 UTC</td>\n      <td>2011-04-19 04:33:15 UTC</td>\n      <td>0.111429</td>\n      <td>0.254735</td>\n    </tr>\n    <tr>\n      <th>1</th>\n      <td>2</td>\n      <td>1389</td>\n      <td>2.0</td>\n      <td>2011-03-28 15:01:13 UTC</td>\n      <td>2011-04-19 15:00:54 UTC</td>\n      <td>0.438571</td>\n      <td>0.254735</td>\n    </tr>\n    <tr>\n      <th>2</th>\n      <td>3</td>\n      <td>1389</td>\n      <td>3.0</td>\n      <td>2011-03-28 15:01:40 UTC</td>\n      <td>2011-04-19 19:10:05 UTC</td>\n      <td>0.140000</td>\n      <td>0.261922</td>\n    </tr>\n    <tr>\n      <th>3</th>\n      <td>4</td>\n      <td>1389</td>\n      <td>4.0</td>\n      <td>2011-03-28 15:01:51 UTC</td>\n      <td>2011-04-19 19:07:01 UTC</td>\n      <td>0.377143</td>\n      <td>0.262720</td>\n    </tr>\n    <tr>\n      <th>4</th>\n      <td>5</td>\n      <td>3079</td>\n      <td>5.0</td>\n      <td>2011-03-28 15:21:26 UTC</td>\n      <td>2011-04-13 15:25:27 UTC</td>\n      <td>0.105714</td>\n      <td>0.313178</td>\n    </tr>\n  </tbody>\n</table>\n</div>"
     },
     "execution_count": 24,
     "metadata": {},
     "output_type": "execute_result"
    }
   ],
   "execution_count": 24
  },
  {
   "cell_type": "code",
   "id": "28c695fc3cc57987",
   "metadata": {
    "collapsed": false,
    "ExecuteTime": {
     "end_time": "2024-07-26T03:05:07.657130Z",
     "start_time": "2024-07-26T03:05:04.984583Z"
    }
   },
   "source": [
    "df.describe(include=\"all\")"
   ],
   "outputs": [
    {
     "data": {
      "text/plain": "                  id  menu_page_id       dish_id               created_at  \\\ncount   1.038119e+06  1.038119e+06  1.038119e+06                  1038119   \nunique           NaN           NaN           NaN                  1013595   \ntop              NaN           NaN           NaN  2011-04-21 21:13:28 UTC   \nfreq             NaN           NaN           NaN                        5   \nmean    7.360480e+05  5.021323e+04  1.630961e+05                      NaN   \nstd     3.829472e+05  2.072465e+04  1.646791e+05                      NaN   \nmin     1.000000e+00  1.300000e+02  1.000000e+00                      NaN   \n25%     4.008505e+05  3.686300e+04  6.250000e+03                      NaN   \n50%     7.570030e+05  5.595400e+04  9.784700e+04                      NaN   \n75%     1.061326e+06  6.721500e+04  3.375005e+05                      NaN   \nmax     1.385906e+06  7.742500e+04  5.134840e+05                      NaN   \n\n                     updated_at          xpos          ypos  \ncount                   1038119  1.038119e+06  1.038119e+06  \nunique                  1015733           NaN           NaN  \ntop     2011-04-21 01:49:53 UTC           NaN           NaN  \nfreq                          4           NaN           NaN  \nmean                        NaN  3.914971e-01  5.483628e-01  \nstd                         NaN  2.229055e-01  2.241894e-01  \nmin                         NaN  0.000000e+00  3.212330e-03  \n25%                         NaN  1.828570e-01  3.652270e-01  \n50%                         NaN  3.800000e-01  5.667420e-01  \n75%                         NaN  5.706670e-01  7.369900e-01  \nmax                         NaN  9.853330e-01  9.936040e-01  ",
      "text/html": "<div>\n<style scoped>\n    .dataframe tbody tr th:only-of-type {\n        vertical-align: middle;\n    }\n\n    .dataframe tbody tr th {\n        vertical-align: top;\n    }\n\n    .dataframe thead th {\n        text-align: right;\n    }\n</style>\n<table border=\"1\" class=\"dataframe\">\n  <thead>\n    <tr style=\"text-align: right;\">\n      <th></th>\n      <th>id</th>\n      <th>menu_page_id</th>\n      <th>dish_id</th>\n      <th>created_at</th>\n      <th>updated_at</th>\n      <th>xpos</th>\n      <th>ypos</th>\n    </tr>\n  </thead>\n  <tbody>\n    <tr>\n      <th>count</th>\n      <td>1.038119e+06</td>\n      <td>1.038119e+06</td>\n      <td>1.038119e+06</td>\n      <td>1038119</td>\n      <td>1038119</td>\n      <td>1.038119e+06</td>\n      <td>1.038119e+06</td>\n    </tr>\n    <tr>\n      <th>unique</th>\n      <td>NaN</td>\n      <td>NaN</td>\n      <td>NaN</td>\n      <td>1013595</td>\n      <td>1015733</td>\n      <td>NaN</td>\n      <td>NaN</td>\n    </tr>\n    <tr>\n      <th>top</th>\n      <td>NaN</td>\n      <td>NaN</td>\n      <td>NaN</td>\n      <td>2011-04-21 21:13:28 UTC</td>\n      <td>2011-04-21 01:49:53 UTC</td>\n      <td>NaN</td>\n      <td>NaN</td>\n    </tr>\n    <tr>\n      <th>freq</th>\n      <td>NaN</td>\n      <td>NaN</td>\n      <td>NaN</td>\n      <td>5</td>\n      <td>4</td>\n      <td>NaN</td>\n      <td>NaN</td>\n    </tr>\n    <tr>\n      <th>mean</th>\n      <td>7.360480e+05</td>\n      <td>5.021323e+04</td>\n      <td>1.630961e+05</td>\n      <td>NaN</td>\n      <td>NaN</td>\n      <td>3.914971e-01</td>\n      <td>5.483628e-01</td>\n    </tr>\n    <tr>\n      <th>std</th>\n      <td>3.829472e+05</td>\n      <td>2.072465e+04</td>\n      <td>1.646791e+05</td>\n      <td>NaN</td>\n      <td>NaN</td>\n      <td>2.229055e-01</td>\n      <td>2.241894e-01</td>\n    </tr>\n    <tr>\n      <th>min</th>\n      <td>1.000000e+00</td>\n      <td>1.300000e+02</td>\n      <td>1.000000e+00</td>\n      <td>NaN</td>\n      <td>NaN</td>\n      <td>0.000000e+00</td>\n      <td>3.212330e-03</td>\n    </tr>\n    <tr>\n      <th>25%</th>\n      <td>4.008505e+05</td>\n      <td>3.686300e+04</td>\n      <td>6.250000e+03</td>\n      <td>NaN</td>\n      <td>NaN</td>\n      <td>1.828570e-01</td>\n      <td>3.652270e-01</td>\n    </tr>\n    <tr>\n      <th>50%</th>\n      <td>7.570030e+05</td>\n      <td>5.595400e+04</td>\n      <td>9.784700e+04</td>\n      <td>NaN</td>\n      <td>NaN</td>\n      <td>3.800000e-01</td>\n      <td>5.667420e-01</td>\n    </tr>\n    <tr>\n      <th>75%</th>\n      <td>1.061326e+06</td>\n      <td>6.721500e+04</td>\n      <td>3.375005e+05</td>\n      <td>NaN</td>\n      <td>NaN</td>\n      <td>5.706670e-01</td>\n      <td>7.369900e-01</td>\n    </tr>\n    <tr>\n      <th>max</th>\n      <td>1.385906e+06</td>\n      <td>7.742500e+04</td>\n      <td>5.134840e+05</td>\n      <td>NaN</td>\n      <td>NaN</td>\n      <td>9.853330e-01</td>\n      <td>9.936040e-01</td>\n    </tr>\n  </tbody>\n</table>\n</div>"
     },
     "execution_count": 25,
     "metadata": {},
     "output_type": "execute_result"
    }
   ],
   "execution_count": 25
  },
  {
   "cell_type": "markdown",
   "id": "9fdedb8a-3fe8-44da-acbb-95bca4c971d5",
   "metadata": {},
   "source": [
    "## Missing Values - Section 3.1\n",
    "\n",
    "* `price` column is missing 30% of data\n",
    "* `high_price` column is missing 93% of data"
   ]
  },
  {
   "cell_type": "code",
   "id": "548425cd87b21a64",
   "metadata": {
    "collapsed": false,
    "ExecuteTime": {
     "end_time": "2024-07-26T03:05:08.187552Z",
     "start_time": "2024-07-26T03:05:07.629367Z"
    }
   },
   "source": [
    "missing_percentage = (df.isnull().sum() / len(df)) * 100\n",
    "missing_percentage.name = 'Percentage of Missing Values'\n",
    "missing_percentage"
   ],
   "outputs": [
    {
     "data": {
      "text/plain": "id              0.0\nmenu_page_id    0.0\ndish_id         0.0\ncreated_at      0.0\nupdated_at      0.0\nxpos            0.0\nypos            0.0\nName: Percentage of Missing Values, dtype: float64"
     },
     "execution_count": 26,
     "metadata": {},
     "output_type": "execute_result"
    }
   ],
   "execution_count": 26
  },
  {
   "cell_type": "code",
   "id": "77bcfe4c0966d563",
   "metadata": {
    "collapsed": false,
    "ExecuteTime": {
     "end_time": "2024-07-26T03:05:08.462677Z",
     "start_time": "2024-07-26T03:05:08.206601Z"
    }
   },
   "source": [
    "non_missing_percentage = 100 - missing_percentage\n",
    "missing_data_percentage = pd.DataFrame({'Missing': missing_percentage, 'Non-Missing': non_missing_percentage})\n",
    "missing_data_percentage.plot(kind='bar', stacked=True, figsize=(10, 6))\n",
    "plt.title('Missing vs. Non-Missing Values (Percentage)')\n",
    "plt.xlabel('Columns')\n",
    "plt.ylabel('Percentage')\n",
    "plt.xticks(rotation=45)\n",
    "plt.show()"
   ],
   "outputs": [
    {
     "data": {
      "text/plain": "<Figure size 1000x600 with 1 Axes>",
      "image/png": "[encoded data removed]"
     },
     "metadata": {},
     "output_type": "display_data"
    }
   ],
   "execution_count": 27
  },
  {
   "cell_type": "markdown",
   "id": "490ccba3-6e7d-4869-bdb7-c08c6059b3b5",
   "metadata": {},
   "source": [
    "## Foreign Key Violations - Section 3.2\n",
    "\n",
    "* All `menu_page_id` exists in the **MenuPage** table. No foreign key violations."
   ]
  },
  {
   "cell_type": "code",
   "id": "133667c4d1d0055c",
   "metadata": {
    "collapsed": false,
    "ExecuteTime": {
     "end_time": "2024-07-26T03:05:08.659195Z",
     "start_time": "2024-07-26T03:05:08.464326Z"
    }
   },
   "source": [
    "df_page = pd.read_feather(\"../Data Files/MenuPage.feather\")"
   ],
   "outputs": [],
   "execution_count": 28
  },
  {
   "cell_type": "code",
   "id": "c9d45f36-400a-4531-b713-f8fcb0bcf9f3",
   "metadata": {
    "ExecuteTime": {
     "end_time": "2024-07-26T03:05:08.659748Z",
     "start_time": "2024-07-26T03:05:08.568162Z"
    }
   },
   "source": [
    "df_page.dtypes"
   ],
   "outputs": [
    {
     "data": {
      "text/plain": "id               int64\nmenu_id          int64\npage_number    float64\nimage_id        object\nfull_height    float64\nfull_width     float64\nuuid            object\ndtype: object"
     },
     "execution_count": 29,
     "metadata": {},
     "output_type": "execute_result"
    }
   ],
   "execution_count": 29
  },
  {
   "cell_type": "code",
   "id": "b2c309b3-b1df-4fee-b55e-4faf73443dcb",
   "metadata": {
    "ExecuteTime": {
     "end_time": "2024-07-26T03:05:09.302015Z",
     "start_time": "2024-07-26T03:05:08.577837Z"
    }
   },
   "source": [
    "\n",
    "menupage_ids = df_page['id'].unique()\n",
    "\n",
    "menuitem_page_ids = df['menu_page_id'].unique()\n",
    "\n",
    "foreign_key_violations = [id for id in menuitem_page_ids if id not in menupage_ids]\n",
    "\n",
    "if foreign_key_violations:\n",
    "    print(\"Foreign key violations found:\", foreign_key_violations)\n",
    "else:\n",
    "    print(\"No foreign key violations found.\")"
   ],
   "outputs": [
    {
     "name": "stdout",
     "output_type": "stream",
     "text": [
      "No foreign key violations found.\n"
     ]
    }
   ],
   "execution_count": 30
  },
  {
   "metadata": {},
   "cell_type": "markdown",
   "source": [
    "## Inconsistent Error - Section 3.3\n",
    "\n",
    "*   A record could not have been updated before being created."
   ],
   "id": "21d02169f37d1144"
  },
  {
   "metadata": {
    "ExecuteTime": {
     "end_time": "2024-07-26T03:05:38.014313Z",
     "start_time": "2024-07-26T03:05:09.295208Z"
    }
   },
   "cell_type": "code",
   "source": [
    "df2 = df.copy()\n",
    "df2['created_at'] = pd.to_datetime(df2['created_at'], format='%Y-%m-%d %H:%M:%S %Z')\n",
    "df2['updated_at'] = pd.to_datetime(df2['updated_at'], format='%Y-%m-%d %H:%M:%S %Z')"
   ],
   "id": "ebc97ac423f5fa9",
   "outputs": [],
   "execution_count": 31
  },
  {
   "metadata": {
    "ExecuteTime": {
     "end_time": "2024-07-26T03:05:38.039945Z",
     "start_time": "2024-07-26T03:05:38.015574Z"
    }
   },
   "cell_type": "code",
   "source": [
    "df2.loc[df2['created_at'] > df2['updated_at']][['created_at', 'updated_at']]"
   ],
   "id": "3d72a6ae6bcb0a17",
   "outputs": [
    {
     "data": {
      "text/plain": "                      created_at                updated_at\n587    2011-04-19 18:40:33+00:00 2011-04-19 18:39:49+00:00\n712    2011-04-19 18:59:03+00:00 2011-04-19 18:58:17+00:00\n1442   2011-04-19 20:57:12+00:00 2011-04-19 20:56:41+00:00\n1447   2011-04-19 20:59:34+00:00 2011-04-19 20:58:32+00:00\n1595   2011-04-19 21:53:27+00:00 2011-04-19 21:52:43+00:00\n...                          ...                       ...\n717235 2012-06-25 02:02:51+00:00 2012-06-25 01:55:57+00:00\n717285 2012-06-25 04:05:33+00:00 2012-06-25 03:58:33+00:00\n717522 2012-06-25 10:45:45+00:00 2012-06-25 10:38:43+00:00\n717579 2012-06-25 12:00:48+00:00 2012-06-25 11:54:09+00:00\n717667 2012-06-25 15:02:05+00:00 2012-06-25 15:00:17+00:00\n\n[2217 rows x 2 columns]",
      "text/html": "<div>\n<style scoped>\n    .dataframe tbody tr th:only-of-type {\n        vertical-align: middle;\n    }\n\n    .dataframe tbody tr th {\n        vertical-align: top;\n    }\n\n    .dataframe thead th {\n        text-align: right;\n    }\n</style>\n<table border=\"1\" class=\"dataframe\">\n  <thead>\n    <tr style=\"text-align: right;\">\n      <th></th>\n      <th>created_at</th>\n      <th>updated_at</th>\n    </tr>\n  </thead>\n  <tbody>\n    <tr>\n      <th>587</th>\n      <td>2011-04-19 18:40:33+00:00</td>\n      <td>2011-04-19 18:39:49+00:00</td>\n    </tr>\n    <tr>\n      <th>712</th>\n      <td>2011-04-19 18:59:03+00:00</td>\n      <td>2011-04-19 18:58:17+00:00</td>\n    </tr>\n    <tr>\n      <th>1442</th>\n      <td>2011-04-19 20:57:12+00:00</td>\n      <td>2011-04-19 20:56:41+00:00</td>\n    </tr>\n    <tr>\n      <th>1447</th>\n      <td>2011-04-19 20:59:34+00:00</td>\n      <td>2011-04-19 20:58:32+00:00</td>\n    </tr>\n    <tr>\n      <th>1595</th>\n      <td>2011-04-19 21:53:27+00:00</td>\n      <td>2011-04-19 21:52:43+00:00</td>\n    </tr>\n    <tr>\n      <th>...</th>\n      <td>...</td>\n      <td>...</td>\n    </tr>\n    <tr>\n      <th>717235</th>\n      <td>2012-06-25 02:02:51+00:00</td>\n      <td>2012-06-25 01:55:57+00:00</td>\n    </tr>\n    <tr>\n      <th>717285</th>\n      <td>2012-06-25 04:05:33+00:00</td>\n      <td>2012-06-25 03:58:33+00:00</td>\n    </tr>\n    <tr>\n      <th>717522</th>\n      <td>2012-06-25 10:45:45+00:00</td>\n      <td>2012-06-25 10:38:43+00:00</td>\n    </tr>\n    <tr>\n      <th>717579</th>\n      <td>2012-06-25 12:00:48+00:00</td>\n      <td>2012-06-25 11:54:09+00:00</td>\n    </tr>\n    <tr>\n      <th>717667</th>\n      <td>2012-06-25 15:02:05+00:00</td>\n      <td>2012-06-25 15:00:17+00:00</td>\n    </tr>\n  </tbody>\n</table>\n<p>2217 rows × 2 columns</p>\n</div>"
     },
     "execution_count": 32,
     "metadata": {},
     "output_type": "execute_result"
    }
   ],
   "execution_count": 32
  },
  {
   "metadata": {
    "ExecuteTime": {
     "end_time": "2024-07-26T03:05:38.056656Z",
     "start_time": "2024-07-26T03:05:38.039559Z"
    }
   },
   "cell_type": "code",
   "outputs": [],
   "execution_count": 32,
   "source": [],
   "id": "a5c883a266bfc5cd"
  }
 ],
 "metadata": {
  "kernelspec": {
   "display_name": "Python 3 (ipykernel)",
   "language": "python",
   "name": "python3"
  },
  "language_info": {
   "codemirror_mode": {
    "name": "ipython",
    "version": 3
   },
   "file_extension": ".py",
   "mimetype": "text/x-python",
   "name": "python",
   "nbconvert_exporter": "python",
   "pygments_lexer": "ipython3",
   "version": "3.12.4"
  }
 },
 "nbformat": 4,
 "nbformat_minor": 5
}
