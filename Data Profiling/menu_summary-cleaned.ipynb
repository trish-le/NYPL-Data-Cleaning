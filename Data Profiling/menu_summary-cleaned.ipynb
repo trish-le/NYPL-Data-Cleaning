{
 "cells": [
  {
   "cell_type": "markdown",
   "id": "4430df4a-2685-4b0a-b86c-a0257c2ad2c0",
   "metadata": {},
   "source": [
    "# Menu Table"
   ]
  },
  {
   "cell_type": "code",
   "execution_count": 19,
   "id": "initial_id",
   "metadata": {
    "ExecuteTime": {
     "end_time": "2024-06-20T09:07:11.057836Z",
     "start_time": "2024-06-20T09:07:10.505Z"
    }
   },
   "outputs": [],
   "source": [
    "import pandas as pd\n",
    "import matplotlib.pyplot as plt"
   ]
  },
  {
   "cell_type": "code",
   "execution_count": 20,
   "id": "508fad5b1b49b6b5",
   "metadata": {
    "ExecuteTime": {
     "end_time": "2024-06-20T09:07:11.076669Z",
     "start_time": "2024-06-20T09:07:11.058885Z"
    },
    "collapsed": false,
    "jupyter": {
     "outputs_hidden": false
    }
   },
   "outputs": [],
   "source": [
    "df = pd.read_feather(\"../Cleaned Data Files/Menu-cleaned.feather\")"
   ]
  },
  {
   "cell_type": "markdown",
   "id": "e0107f83-226d-4316-ab5c-c07a8b36efa5",
   "metadata": {},
   "source": [
    "## Description\n",
    "\n",
    "Each entry is an individual menu with information on where it was used and who created it (i.e., a hotel or a restaurant)\n",
    "\n",
    "* There were previously 17545 records across 20 columns\n",
    "* There are now 15984 records across 15 columns"
   ]
  },
  {
   "cell_type": "code",
   "execution_count": 21,
   "id": "ab698fecb84fbfc7",
   "metadata": {
    "ExecuteTime": {
     "end_time": "2024-06-20T09:07:11.080831Z",
     "start_time": "2024-06-20T09:07:11.077541Z"
    },
    "collapsed": false,
    "jupyter": {
     "outputs_hidden": false
    }
   },
   "outputs": [
    {
     "data": {
      "text/plain": [
       "(15396, 15)"
      ]
     },
     "execution_count": 21,
     "metadata": {},
     "output_type": "execute_result"
    }
   ],
   "source": [
    "df.shape"
   ]
  },
  {
   "cell_type": "code",
   "execution_count": 22,
   "id": "77f4bd23879e9380",
   "metadata": {
    "ExecuteTime": {
     "end_time": "2024-06-20T09:07:11.084979Z",
     "start_time": "2024-06-20T09:07:11.082087Z"
    },
    "collapsed": false,
    "jupyter": {
     "outputs_hidden": false
    }
   },
   "outputs": [
    {
     "data": {
      "text/plain": [
       "id                       int64\n",
       "name                    object\n",
       "sponsor                 object\n",
       "event                   object\n",
       "venue                   object\n",
       "place                   object\n",
       "physical_description    object\n",
       "occasion                object\n",
       "notes                   object\n",
       "call_number             object\n",
       "date                    object\n",
       "location                object\n",
       "status                  object\n",
       "page_count               int64\n",
       "dish_count               int64\n",
       "dtype: object"
      ]
     },
     "execution_count": 22,
     "metadata": {},
     "output_type": "execute_result"
    }
   ],
   "source": [
    "df.dtypes"
   ]
  },
  {
   "cell_type": "code",
   "execution_count": 23,
   "id": "bfb8f397174d513",
   "metadata": {
    "ExecuteTime": {
     "end_time": "2024-06-20T09:07:11.092885Z",
     "start_time": "2024-06-20T09:07:11.085589Z"
    },
    "collapsed": false,
    "jupyter": {
     "outputs_hidden": false
    }
   },
   "outputs": [
    {
     "data": {
      "text/html": [
       "<div>\n",
       "<style scoped>\n",
       "    .dataframe tbody tr th:only-of-type {\n",
       "        vertical-align: middle;\n",
       "    }\n",
       "\n",
       "    .dataframe tbody tr th {\n",
       "        vertical-align: top;\n",
       "    }\n",
       "\n",
       "    .dataframe thead th {\n",
       "        text-align: right;\n",
       "    }\n",
       "</style>\n",
       "<table border=\"1\" class=\"dataframe\">\n",
       "  <thead>\n",
       "    <tr style=\"text-align: right;\">\n",
       "      <th></th>\n",
       "      <th>id</th>\n",
       "      <th>name</th>\n",
       "      <th>sponsor</th>\n",
       "      <th>event</th>\n",
       "      <th>venue</th>\n",
       "      <th>place</th>\n",
       "      <th>physical_description</th>\n",
       "      <th>occasion</th>\n",
       "      <th>notes</th>\n",
       "      <th>call_number</th>\n",
       "      <th>date</th>\n",
       "      <th>location</th>\n",
       "      <th>status</th>\n",
       "      <th>page_count</th>\n",
       "      <th>dish_count</th>\n",
       "    </tr>\n",
       "  </thead>\n",
       "  <tbody>\n",
       "    <tr>\n",
       "      <th>0</th>\n",
       "      <td>12463</td>\n",
       "      <td>None</td>\n",
       "      <td>HOTEL EASTMAN</td>\n",
       "      <td>BREAKFAST</td>\n",
       "      <td>COMMERCIAL</td>\n",
       "      <td>HOT SPRINGS, AR</td>\n",
       "      <td>CARD; 4.75X7.5;</td>\n",
       "      <td>EASTER;</td>\n",
       "      <td>None</td>\n",
       "      <td>1900-2822</td>\n",
       "      <td>1900-04-15</td>\n",
       "      <td>Hotel Eastman</td>\n",
       "      <td>complete</td>\n",
       "      <td>2</td>\n",
       "      <td>67</td>\n",
       "    </tr>\n",
       "    <tr>\n",
       "      <th>1</th>\n",
       "      <td>12464</td>\n",
       "      <td>None</td>\n",
       "      <td>REPUBLICAN HOUSE</td>\n",
       "      <td>[DINNER]</td>\n",
       "      <td>COMMERCIAL</td>\n",
       "      <td>MILWAUKEE, [WI];</td>\n",
       "      <td>CARD; ILLUS; COL; 7.0X9.0;</td>\n",
       "      <td>EASTER;</td>\n",
       "      <td>WEDGEWOOD BLUE CARD; WHITE EMBOSSED GREEK KEY ...</td>\n",
       "      <td>1900-2825</td>\n",
       "      <td>1900-04-15</td>\n",
       "      <td>Republican House</td>\n",
       "      <td>under review</td>\n",
       "      <td>2</td>\n",
       "      <td>34</td>\n",
       "    </tr>\n",
       "    <tr>\n",
       "      <th>2</th>\n",
       "      <td>12465</td>\n",
       "      <td>None</td>\n",
       "      <td>NORDDEUTSCHER LLOYD BREMEN</td>\n",
       "      <td>FRUHSTUCK/BREAKFAST;</td>\n",
       "      <td>COMMERCIAL</td>\n",
       "      <td>DAMPFER KAISER WILHELM DER GROSSE;</td>\n",
       "      <td>CARD; ILLU; COL; 5.5X8.0;</td>\n",
       "      <td>None</td>\n",
       "      <td>MENU IN GERMAN AND ENGLISH; ILLUS, STEAMSHIP A...</td>\n",
       "      <td>1900-2827</td>\n",
       "      <td>1900-04-16</td>\n",
       "      <td>Norddeutscher Lloyd Bremen</td>\n",
       "      <td>complete</td>\n",
       "      <td>2</td>\n",
       "      <td>84</td>\n",
       "    </tr>\n",
       "    <tr>\n",
       "      <th>3</th>\n",
       "      <td>12466</td>\n",
       "      <td>None</td>\n",
       "      <td>NORDDEUTSCHER LLOYD BREMEN</td>\n",
       "      <td>LUNCH;</td>\n",
       "      <td>COMMERCIAL</td>\n",
       "      <td>DAMPFER KAISER WILHELM DER GROSSE;</td>\n",
       "      <td>CARD; ILLU; COL; 5.5X8.0;</td>\n",
       "      <td>None</td>\n",
       "      <td>MENU IN GERMAN AND ENGLISH; ILLUS, HARBOR SCEN...</td>\n",
       "      <td>1900-2828</td>\n",
       "      <td>1900-04-16</td>\n",
       "      <td>Norddeutscher Lloyd Bremen</td>\n",
       "      <td>complete</td>\n",
       "      <td>2</td>\n",
       "      <td>63</td>\n",
       "    </tr>\n",
       "    <tr>\n",
       "      <th>4</th>\n",
       "      <td>12467</td>\n",
       "      <td>None</td>\n",
       "      <td>NORDDEUTSCHER LLOYD BREMEN</td>\n",
       "      <td>DINNER;</td>\n",
       "      <td>COMMERCIAL</td>\n",
       "      <td>DAMPFER KAISER WILHELM DER GROSSE;</td>\n",
       "      <td>FOLDER; ILLU; COL; 5.5X7.5;</td>\n",
       "      <td>None</td>\n",
       "      <td>MENU IN GERMAN AND ENGLISH; ILLUS, HARBOR SCEN...</td>\n",
       "      <td>1900-2829</td>\n",
       "      <td>1900-04-16</td>\n",
       "      <td>Norddeutscher Lloyd Bremen</td>\n",
       "      <td>complete</td>\n",
       "      <td>4</td>\n",
       "      <td>33</td>\n",
       "    </tr>\n",
       "  </tbody>\n",
       "</table>\n",
       "</div>"
      ],
      "text/plain": [
       "      id  name                     sponsor                 event       venue  \\\n",
       "0  12463  None               HOTEL EASTMAN             BREAKFAST  COMMERCIAL   \n",
       "1  12464  None            REPUBLICAN HOUSE              [DINNER]  COMMERCIAL   \n",
       "2  12465  None  NORDDEUTSCHER LLOYD BREMEN  FRUHSTUCK/BREAKFAST;  COMMERCIAL   \n",
       "3  12466  None  NORDDEUTSCHER LLOYD BREMEN                LUNCH;  COMMERCIAL   \n",
       "4  12467  None  NORDDEUTSCHER LLOYD BREMEN               DINNER;  COMMERCIAL   \n",
       "\n",
       "                                place         physical_description occasion  \\\n",
       "0                     HOT SPRINGS, AR              CARD; 4.75X7.5;  EASTER;   \n",
       "1                    MILWAUKEE, [WI];   CARD; ILLUS; COL; 7.0X9.0;  EASTER;   \n",
       "2  DAMPFER KAISER WILHELM DER GROSSE;    CARD; ILLU; COL; 5.5X8.0;     None   \n",
       "3  DAMPFER KAISER WILHELM DER GROSSE;    CARD; ILLU; COL; 5.5X8.0;     None   \n",
       "4  DAMPFER KAISER WILHELM DER GROSSE;  FOLDER; ILLU; COL; 5.5X7.5;     None   \n",
       "\n",
       "                                               notes call_number        date  \\\n",
       "0                                               None   1900-2822  1900-04-15   \n",
       "1  WEDGEWOOD BLUE CARD; WHITE EMBOSSED GREEK KEY ...   1900-2825  1900-04-15   \n",
       "2  MENU IN GERMAN AND ENGLISH; ILLUS, STEAMSHIP A...   1900-2827  1900-04-16   \n",
       "3  MENU IN GERMAN AND ENGLISH; ILLUS, HARBOR SCEN...   1900-2828  1900-04-16   \n",
       "4  MENU IN GERMAN AND ENGLISH; ILLUS, HARBOR SCEN...   1900-2829  1900-04-16   \n",
       "\n",
       "                     location        status  page_count  dish_count  \n",
       "0               Hotel Eastman      complete           2          67  \n",
       "1            Republican House  under review           2          34  \n",
       "2  Norddeutscher Lloyd Bremen      complete           2          84  \n",
       "3  Norddeutscher Lloyd Bremen      complete           2          63  \n",
       "4  Norddeutscher Lloyd Bremen      complete           4          33  "
      ]
     },
     "execution_count": 23,
     "metadata": {},
     "output_type": "execute_result"
    }
   ],
   "source": [
    "df.head(5)"
   ]
  },
  {
   "cell_type": "code",
   "execution_count": 24,
   "id": "28c695fc3cc57987",
   "metadata": {
    "ExecuteTime": {
     "end_time": "2024-06-20T09:07:11.129245Z",
     "start_time": "2024-06-20T09:07:11.093659Z"
    },
    "collapsed": false,
    "jupyter": {
     "outputs_hidden": false
    }
   },
   "outputs": [
    {
     "data": {
      "text/html": [
       "<div>\n",
       "<style scoped>\n",
       "    .dataframe tbody tr th:only-of-type {\n",
       "        vertical-align: middle;\n",
       "    }\n",
       "\n",
       "    .dataframe tbody tr th {\n",
       "        vertical-align: top;\n",
       "    }\n",
       "\n",
       "    .dataframe thead th {\n",
       "        text-align: right;\n",
       "    }\n",
       "</style>\n",
       "<table border=\"1\" class=\"dataframe\">\n",
       "  <thead>\n",
       "    <tr style=\"text-align: right;\">\n",
       "      <th></th>\n",
       "      <th>id</th>\n",
       "      <th>name</th>\n",
       "      <th>sponsor</th>\n",
       "      <th>event</th>\n",
       "      <th>venue</th>\n",
       "      <th>place</th>\n",
       "      <th>physical_description</th>\n",
       "      <th>occasion</th>\n",
       "      <th>notes</th>\n",
       "      <th>call_number</th>\n",
       "      <th>date</th>\n",
       "      <th>location</th>\n",
       "      <th>status</th>\n",
       "      <th>page_count</th>\n",
       "      <th>dish_count</th>\n",
       "    </tr>\n",
       "  </thead>\n",
       "  <tbody>\n",
       "    <tr>\n",
       "      <th>count</th>\n",
       "      <td>15396.000000</td>\n",
       "      <td>3194</td>\n",
       "      <td>15396</td>\n",
       "      <td>7911</td>\n",
       "      <td>7621</td>\n",
       "      <td>7644</td>\n",
       "      <td>14186</td>\n",
       "      <td>3775</td>\n",
       "      <td>10067</td>\n",
       "      <td>15395</td>\n",
       "      <td>15396</td>\n",
       "      <td>15396</td>\n",
       "      <td>15396</td>\n",
       "      <td>15396.000000</td>\n",
       "      <td>15396.000000</td>\n",
       "    </tr>\n",
       "    <tr>\n",
       "      <th>unique</th>\n",
       "      <td>NaN</td>\n",
       "      <td>792</td>\n",
       "      <td>5554</td>\n",
       "      <td>1737</td>\n",
       "      <td>229</td>\n",
       "      <td>3327</td>\n",
       "      <td>5745</td>\n",
       "      <td>416</td>\n",
       "      <td>6597</td>\n",
       "      <td>15348</td>\n",
       "      <td>6557</td>\n",
       "      <td>5713</td>\n",
       "      <td>2</td>\n",
       "      <td>NaN</td>\n",
       "      <td>NaN</td>\n",
       "    </tr>\n",
       "    <tr>\n",
       "      <th>top</th>\n",
       "      <td>NaN</td>\n",
       "      <td>Waldorf Astoria</td>\n",
       "      <td>Waldorf Astoria</td>\n",
       "      <td>DINNER</td>\n",
       "      <td>COMMERCIAL</td>\n",
       "      <td>EN ROUTE</td>\n",
       "      <td>BROADSHEET; ILLUS; 6.5 X 7.75;</td>\n",
       "      <td>DAILY;</td>\n",
       "      <td>B&amp;W PHOTOGRAPHS OF VARIOUS POINTS OF INTEREST ...</td>\n",
       "      <td>1899-806</td>\n",
       "      <td>1915-01-01</td>\n",
       "      <td>Waldorf Astoria</td>\n",
       "      <td>complete</td>\n",
       "      <td>NaN</td>\n",
       "      <td>NaN</td>\n",
       "    </tr>\n",
       "    <tr>\n",
       "      <th>freq</th>\n",
       "      <td>NaN</td>\n",
       "      <td>475</td>\n",
       "      <td>695</td>\n",
       "      <td>1826</td>\n",
       "      <td>4700</td>\n",
       "      <td>292</td>\n",
       "      <td>127</td>\n",
       "      <td>828</td>\n",
       "      <td>112</td>\n",
       "      <td>3</td>\n",
       "      <td>263</td>\n",
       "      <td>703</td>\n",
       "      <td>15236</td>\n",
       "      <td>NaN</td>\n",
       "      <td>NaN</td>\n",
       "    </tr>\n",
       "    <tr>\n",
       "      <th>mean</th>\n",
       "      <td>26159.870291</td>\n",
       "      <td>NaN</td>\n",
       "      <td>NaN</td>\n",
       "      <td>NaN</td>\n",
       "      <td>NaN</td>\n",
       "      <td>NaN</td>\n",
       "      <td>NaN</td>\n",
       "      <td>NaN</td>\n",
       "      <td>NaN</td>\n",
       "      <td>NaN</td>\n",
       "      <td>NaN</td>\n",
       "      <td>NaN</td>\n",
       "      <td>NaN</td>\n",
       "      <td>3.493310</td>\n",
       "      <td>76.351715</td>\n",
       "    </tr>\n",
       "    <tr>\n",
       "      <th>std</th>\n",
       "      <td>6153.002166</td>\n",
       "      <td>NaN</td>\n",
       "      <td>NaN</td>\n",
       "      <td>NaN</td>\n",
       "      <td>NaN</td>\n",
       "      <td>NaN</td>\n",
       "      <td>NaN</td>\n",
       "      <td>NaN</td>\n",
       "      <td>NaN</td>\n",
       "      <td>NaN</td>\n",
       "      <td>NaN</td>\n",
       "      <td>NaN</td>\n",
       "      <td>NaN</td>\n",
       "      <td>3.342584</td>\n",
       "      <td>100.224728</td>\n",
       "    </tr>\n",
       "    <tr>\n",
       "      <th>min</th>\n",
       "      <td>12463.000000</td>\n",
       "      <td>NaN</td>\n",
       "      <td>NaN</td>\n",
       "      <td>NaN</td>\n",
       "      <td>NaN</td>\n",
       "      <td>NaN</td>\n",
       "      <td>NaN</td>\n",
       "      <td>NaN</td>\n",
       "      <td>NaN</td>\n",
       "      <td>NaN</td>\n",
       "      <td>NaN</td>\n",
       "      <td>NaN</td>\n",
       "      <td>NaN</td>\n",
       "      <td>1.000000</td>\n",
       "      <td>0.000000</td>\n",
       "    </tr>\n",
       "    <tr>\n",
       "      <th>25%</th>\n",
       "      <td>21958.750000</td>\n",
       "      <td>NaN</td>\n",
       "      <td>NaN</td>\n",
       "      <td>NaN</td>\n",
       "      <td>NaN</td>\n",
       "      <td>NaN</td>\n",
       "      <td>NaN</td>\n",
       "      <td>NaN</td>\n",
       "      <td>NaN</td>\n",
       "      <td>NaN</td>\n",
       "      <td>NaN</td>\n",
       "      <td>NaN</td>\n",
       "      <td>NaN</td>\n",
       "      <td>2.000000</td>\n",
       "      <td>20.000000</td>\n",
       "    </tr>\n",
       "    <tr>\n",
       "      <th>50%</th>\n",
       "      <td>27204.000000</td>\n",
       "      <td>NaN</td>\n",
       "      <td>NaN</td>\n",
       "      <td>NaN</td>\n",
       "      <td>NaN</td>\n",
       "      <td>NaN</td>\n",
       "      <td>NaN</td>\n",
       "      <td>NaN</td>\n",
       "      <td>NaN</td>\n",
       "      <td>NaN</td>\n",
       "      <td>NaN</td>\n",
       "      <td>NaN</td>\n",
       "      <td>NaN</td>\n",
       "      <td>2.000000</td>\n",
       "      <td>34.000000</td>\n",
       "    </tr>\n",
       "    <tr>\n",
       "      <th>75%</th>\n",
       "      <td>31271.250000</td>\n",
       "      <td>NaN</td>\n",
       "      <td>NaN</td>\n",
       "      <td>NaN</td>\n",
       "      <td>NaN</td>\n",
       "      <td>NaN</td>\n",
       "      <td>NaN</td>\n",
       "      <td>NaN</td>\n",
       "      <td>NaN</td>\n",
       "      <td>NaN</td>\n",
       "      <td>NaN</td>\n",
       "      <td>NaN</td>\n",
       "      <td>NaN</td>\n",
       "      <td>4.000000</td>\n",
       "      <td>95.000000</td>\n",
       "    </tr>\n",
       "    <tr>\n",
       "      <th>max</th>\n",
       "      <td>35526.000000</td>\n",
       "      <td>NaN</td>\n",
       "      <td>NaN</td>\n",
       "      <td>NaN</td>\n",
       "      <td>NaN</td>\n",
       "      <td>NaN</td>\n",
       "      <td>NaN</td>\n",
       "      <td>NaN</td>\n",
       "      <td>NaN</td>\n",
       "      <td>NaN</td>\n",
       "      <td>NaN</td>\n",
       "      <td>NaN</td>\n",
       "      <td>NaN</td>\n",
       "      <td>74.000000</td>\n",
       "      <td>4053.000000</td>\n",
       "    </tr>\n",
       "  </tbody>\n",
       "</table>\n",
       "</div>"
      ],
      "text/plain": [
       "                  id             name          sponsor   event       venue  \\\n",
       "count   15396.000000             3194            15396    7911        7621   \n",
       "unique           NaN              792             5554    1737         229   \n",
       "top              NaN  Waldorf Astoria  Waldorf Astoria  DINNER  COMMERCIAL   \n",
       "freq             NaN              475              695    1826        4700   \n",
       "mean    26159.870291              NaN              NaN     NaN         NaN   \n",
       "std      6153.002166              NaN              NaN     NaN         NaN   \n",
       "min     12463.000000              NaN              NaN     NaN         NaN   \n",
       "25%     21958.750000              NaN              NaN     NaN         NaN   \n",
       "50%     27204.000000              NaN              NaN     NaN         NaN   \n",
       "75%     31271.250000              NaN              NaN     NaN         NaN   \n",
       "max     35526.000000              NaN              NaN     NaN         NaN   \n",
       "\n",
       "           place            physical_description occasion  \\\n",
       "count       7644                           14186     3775   \n",
       "unique      3327                            5745      416   \n",
       "top     EN ROUTE  BROADSHEET; ILLUS; 6.5 X 7.75;   DAILY;   \n",
       "freq         292                             127      828   \n",
       "mean         NaN                             NaN      NaN   \n",
       "std          NaN                             NaN      NaN   \n",
       "min          NaN                             NaN      NaN   \n",
       "25%          NaN                             NaN      NaN   \n",
       "50%          NaN                             NaN      NaN   \n",
       "75%          NaN                             NaN      NaN   \n",
       "max          NaN                             NaN      NaN   \n",
       "\n",
       "                                                    notes call_number  \\\n",
       "count                                               10067       15395   \n",
       "unique                                               6597       15348   \n",
       "top     B&W PHOTOGRAPHS OF VARIOUS POINTS OF INTEREST ...    1899-806   \n",
       "freq                                                  112           3   \n",
       "mean                                                  NaN         NaN   \n",
       "std                                                   NaN         NaN   \n",
       "min                                                   NaN         NaN   \n",
       "25%                                                   NaN         NaN   \n",
       "50%                                                   NaN         NaN   \n",
       "75%                                                   NaN         NaN   \n",
       "max                                                   NaN         NaN   \n",
       "\n",
       "              date         location    status    page_count    dish_count  \n",
       "count        15396            15396     15396  15396.000000  15396.000000  \n",
       "unique        6557             5713         2           NaN           NaN  \n",
       "top     1915-01-01  Waldorf Astoria  complete           NaN           NaN  \n",
       "freq           263              703     15236           NaN           NaN  \n",
       "mean           NaN              NaN       NaN      3.493310     76.351715  \n",
       "std            NaN              NaN       NaN      3.342584    100.224728  \n",
       "min            NaN              NaN       NaN      1.000000      0.000000  \n",
       "25%            NaN              NaN       NaN      2.000000     20.000000  \n",
       "50%            NaN              NaN       NaN      2.000000     34.000000  \n",
       "75%            NaN              NaN       NaN      4.000000     95.000000  \n",
       "max            NaN              NaN       NaN     74.000000   4053.000000  "
      ]
     },
     "execution_count": 24,
     "metadata": {},
     "output_type": "execute_result"
    }
   ],
   "source": [
    "df.describe(include=\"all\")"
   ]
  },
  {
   "cell_type": "markdown",
   "id": "5f36e4c0-3088-4c74-a56f-0e13550e25bb",
   "metadata": {},
   "source": [
    "## Remediated - Missing Values - Section 2.1\n",
    "\n",
    "* `keywords`, `language`, and `location_type` were at 100% missing previously. Now they're not present\n",
    "* Other columns such as `name`, `currency` and others, are still missing some information. **But previouly, the important to us column *sponsor* was missing 8% while now it's 0%**"
   ]
  },
  {
   "cell_type": "code",
   "execution_count": 25,
   "id": "548425cd87b21a64",
   "metadata": {
    "ExecuteTime": {
     "end_time": "2024-06-20T09:07:11.136644Z",
     "start_time": "2024-06-20T09:07:11.129947Z"
    },
    "collapsed": false,
    "jupyter": {
     "outputs_hidden": false
    }
   },
   "outputs": [
    {
     "data": {
      "text/plain": [
       "id                       0.000000\n",
       "name                    79.254352\n",
       "sponsor                  0.000000\n",
       "event                   48.616524\n",
       "venue                   50.500130\n",
       "place                   50.350740\n",
       "physical_description     7.859184\n",
       "occasion                75.480644\n",
       "notes                   34.612886\n",
       "call_number              0.006495\n",
       "date                     0.000000\n",
       "location                 0.000000\n",
       "status                   0.000000\n",
       "page_count               0.000000\n",
       "dish_count               0.000000\n",
       "Name: Percentage of Missing Values, dtype: float64"
      ]
     },
     "execution_count": 25,
     "metadata": {},
     "output_type": "execute_result"
    }
   ],
   "source": [
    "missing_percentage = (df.isnull().sum() / len(df)) * 100\n",
    "missing_percentage.name = 'Percentage of Missing Values'\n",
    "missing_percentage"
   ]
  },
  {
   "cell_type": "code",
   "execution_count": 26,
   "id": "77bcfe4c0966d563",
   "metadata": {
    "ExecuteTime": {
     "end_time": "2024-06-20T09:07:11.266006Z",
     "start_time": "2024-06-20T09:07:11.137231Z"
    },
    "collapsed": false,
    "jupyter": {
     "outputs_hidden": false
    }
   },
   "outputs": [
    {
     "data": {
      "image/png": "[encoded data removed]",
      "text/plain": [
       "<Figure size 1000x600 with 1 Axes>"
      ]
     },
     "metadata": {},
     "output_type": "display_data"
    }
   ],
   "source": [
    "non_missing_percentage = 100 - missing_percentage\n",
    "missing_data_percentage = pd.DataFrame({'Missing': missing_percentage, 'Non-Missing': non_missing_percentage})\n",
    "missing_data_percentage.plot(kind='bar', stacked=True, figsize=(10, 6))\n",
    "plt.title('Missing vs. Non-Missing Values (Percentage)')\n",
    "plt.xlabel('Columns')\n",
    "plt.ylabel('Percentage')\n",
    "plt.xticks(rotation=75)\n",
    "plt.show()"
   ]
  },
  {
   "cell_type": "markdown",
   "id": "3ed6798fc5d74402",
   "metadata": {},
   "source": [
    "## Inconsistency Error - Section 2.2\n",
    "\n",
    "* `date` used to have some values outside the range of our dataset, but not anymore. Refer to the previous Jupyter Notebook for old values."
   ]
  },
  {
   "cell_type": "code",
   "execution_count": 27,
   "id": "bdc1f1c0-f4d0-45d2-a218-34160c0a90b1",
   "metadata": {
    "ExecuteTime": {
     "end_time": "2024-06-20T09:19:35.103042Z",
     "start_time": "2024-06-20T09:19:35.094467Z"
    }
   },
   "outputs": [
    {
     "data": {
      "text/html": [
       "<div>\n",
       "<style scoped>\n",
       "    .dataframe tbody tr th:only-of-type {\n",
       "        vertical-align: middle;\n",
       "    }\n",
       "\n",
       "    .dataframe tbody tr th {\n",
       "        vertical-align: top;\n",
       "    }\n",
       "\n",
       "    .dataframe thead th {\n",
       "        text-align: right;\n",
       "    }\n",
       "</style>\n",
       "<table border=\"1\" class=\"dataframe\">\n",
       "  <thead>\n",
       "    <tr style=\"text-align: right;\">\n",
       "      <th></th>\n",
       "      <th>id</th>\n",
       "      <th>name</th>\n",
       "      <th>sponsor</th>\n",
       "      <th>event</th>\n",
       "      <th>venue</th>\n",
       "      <th>place</th>\n",
       "      <th>physical_description</th>\n",
       "      <th>occasion</th>\n",
       "      <th>notes</th>\n",
       "      <th>call_number</th>\n",
       "      <th>date</th>\n",
       "      <th>location</th>\n",
       "      <th>status</th>\n",
       "      <th>page_count</th>\n",
       "      <th>dish_count</th>\n",
       "    </tr>\n",
       "  </thead>\n",
       "  <tbody>\n",
       "  </tbody>\n",
       "</table>\n",
       "</div>"
      ],
      "text/plain": [
       "Empty DataFrame\n",
       "Columns: [id, name, sponsor, event, venue, place, physical_description, occasion, notes, call_number, date, location, status, page_count, dish_count]\n",
       "Index: []"
      ]
     },
     "execution_count": 27,
     "metadata": {},
     "output_type": "execute_result"
    }
   ],
   "source": [
    "df.loc[df['date'] < '1800-01-01']"
   ]
  },
  {
   "cell_type": "code",
   "execution_count": 28,
   "id": "f204bb0f241cbcb8",
   "metadata": {
    "ExecuteTime": {
     "end_time": "2024-06-20T09:22:45.136398Z",
     "start_time": "2024-06-20T09:22:45.128370Z"
    }
   },
   "outputs": [
    {
     "data": {
      "text/html": [
       "<div>\n",
       "<style scoped>\n",
       "    .dataframe tbody tr th:only-of-type {\n",
       "        vertical-align: middle;\n",
       "    }\n",
       "\n",
       "    .dataframe tbody tr th {\n",
       "        vertical-align: top;\n",
       "    }\n",
       "\n",
       "    .dataframe thead th {\n",
       "        text-align: right;\n",
       "    }\n",
       "</style>\n",
       "<table border=\"1\" class=\"dataframe\">\n",
       "  <thead>\n",
       "    <tr style=\"text-align: right;\">\n",
       "      <th></th>\n",
       "      <th>id</th>\n",
       "      <th>name</th>\n",
       "      <th>sponsor</th>\n",
       "      <th>event</th>\n",
       "      <th>venue</th>\n",
       "      <th>place</th>\n",
       "      <th>physical_description</th>\n",
       "      <th>occasion</th>\n",
       "      <th>notes</th>\n",
       "      <th>call_number</th>\n",
       "      <th>date</th>\n",
       "      <th>location</th>\n",
       "      <th>status</th>\n",
       "      <th>page_count</th>\n",
       "      <th>dish_count</th>\n",
       "    </tr>\n",
       "  </thead>\n",
       "  <tbody>\n",
       "  </tbody>\n",
       "</table>\n",
       "</div>"
      ],
      "text/plain": [
       "Empty DataFrame\n",
       "Columns: [id, name, sponsor, event, venue, place, physical_description, occasion, notes, call_number, date, location, status, page_count, dish_count]\n",
       "Index: []"
      ]
     },
     "execution_count": 28,
     "metadata": {},
     "output_type": "execute_result"
    }
   ],
   "source": [
    "# Based on when was the dataset uploaded to the box by our professor. April 22, 2021. \n",
    "# We gave a generous buffer zone in case the professor downloaded the dataset days before.\n",
    "df.loc[df['date'] > '2021-01-01']"
   ]
  },
  {
   "cell_type": "code",
   "execution_count": null,
   "id": "7d2889015c86b45",
   "metadata": {},
   "outputs": [],
   "source": []
  }
 ],
 "metadata": {
  "kernelspec": {
   "display_name": "Python 3 (ipykernel)",
   "language": "python",
   "name": "python3"
  },
  "language_info": {
   "codemirror_mode": {
    "name": "ipython",
    "version": 3
   },
   "file_extension": ".py",
   "mimetype": "text/x-python",
   "name": "python",
   "nbconvert_exporter": "python",
   "pygments_lexer": "ipython3",
   "version": "3.12.4"
  }
 },
 "nbformat": 4,
 "nbformat_minor": 5
}
