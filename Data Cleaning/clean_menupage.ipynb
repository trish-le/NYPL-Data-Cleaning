{
 "cells": [
  {
   "cell_type": "markdown",
   "source": [
    "# Clean MenuPage Table"
   ],
   "metadata": {
    "collapsed": false
   },
   "id": "1085d72ee54448f3"
  },
  {
   "cell_type": "code",
   "execution_count": 26,
   "outputs": [],
   "source": [
    "import pandas as pd"
   ],
   "metadata": {
    "collapsed": false,
    "ExecuteTime": {
     "end_time": "2024-07-26T03:15:40.063112Z",
     "start_time": "2024-07-26T03:15:39.896858Z"
    }
   },
   "id": "e089485471c9af06"
  },
  {
   "cell_type": "code",
   "execution_count": 27,
   "outputs": [],
   "source": [
    "menupage_df = pd.read_feather(\"../Data Files/MenuPage.feather\")"
   ],
   "metadata": {
    "collapsed": false,
    "ExecuteTime": {
     "end_time": "2024-07-26T03:15:40.063868Z",
     "start_time": "2024-07-26T03:15:39.913881Z"
    }
   },
   "id": "b5d8ec57f1dcf31d"
  },
  {
   "cell_type": "code",
   "execution_count": 28,
   "outputs": [
    {
     "name": "stdout",
     "output_type": "stream",
     "text": [
      "(66937, 7)\n"
     ]
    }
   ],
   "source": [
    "print(menupage_df.shape)"
   ],
   "metadata": {
    "collapsed": false,
    "ExecuteTime": {
     "end_time": "2024-07-26T03:15:40.064266Z",
     "start_time": "2024-07-26T03:15:40.030663Z"
    }
   },
   "id": "404baf20aeaf2f75"
  },
  {
   "cell_type": "code",
   "execution_count": 29,
   "outputs": [],
   "source": [
    "# Need to use the cleaned data from Menu table since MenuPage references Menu\n",
    "menu_df = pd.read_feather(\"../Cleaned Data Files/Menu-cleaned.feather\")"
   ],
   "metadata": {
    "collapsed": false,
    "ExecuteTime": {
     "end_time": "2024-07-26T03:15:40.131495Z",
     "start_time": "2024-07-26T03:15:40.041693Z"
    }
   },
   "id": "8e40bd702559b385"
  },
  {
   "cell_type": "code",
   "execution_count": 30,
   "outputs": [
    {
     "data": {
      "text/plain": "     id  menu_id  page_number    image_id  full_height  full_width  \\\n10  129    12463          2.0  4000009170       3074.0      2046.0   \n11  130    12463          1.0      466928       3049.0      2004.0   \n12  131    12464          2.0  4000009171       3690.0      2888.0   \n13  132    12464          1.0      466930       3679.0      2866.0   \n14  133    12465          2.0  4000009172       3413.0      2307.0   \n\n                                    uuid  \n10  510d47db-491e-a3d9-e040-e00a18064a99  \n11  510D47DB-491F-A3D9-E040-E00A18064A99  \n12  510d47db-4920-a3d9-e040-e00a18064a99  \n13  510d47db-4921-a3d9-e040-e00a18064a99  \n14  510d47db-4922-a3d9-e040-e00a18064a99  ",
      "text/html": "<div>\n<style scoped>\n    .dataframe tbody tr th:only-of-type {\n        vertical-align: middle;\n    }\n\n    .dataframe tbody tr th {\n        vertical-align: top;\n    }\n\n    .dataframe thead th {\n        text-align: right;\n    }\n</style>\n<table border=\"1\" class=\"dataframe\">\n  <thead>\n    <tr style=\"text-align: right;\">\n      <th></th>\n      <th>id</th>\n      <th>menu_id</th>\n      <th>page_number</th>\n      <th>image_id</th>\n      <th>full_height</th>\n      <th>full_width</th>\n      <th>uuid</th>\n    </tr>\n  </thead>\n  <tbody>\n    <tr>\n      <th>10</th>\n      <td>129</td>\n      <td>12463</td>\n      <td>2.0</td>\n      <td>4000009170</td>\n      <td>3074.0</td>\n      <td>2046.0</td>\n      <td>510d47db-491e-a3d9-e040-e00a18064a99</td>\n    </tr>\n    <tr>\n      <th>11</th>\n      <td>130</td>\n      <td>12463</td>\n      <td>1.0</td>\n      <td>466928</td>\n      <td>3049.0</td>\n      <td>2004.0</td>\n      <td>510D47DB-491F-A3D9-E040-E00A18064A99</td>\n    </tr>\n    <tr>\n      <th>12</th>\n      <td>131</td>\n      <td>12464</td>\n      <td>2.0</td>\n      <td>4000009171</td>\n      <td>3690.0</td>\n      <td>2888.0</td>\n      <td>510d47db-4920-a3d9-e040-e00a18064a99</td>\n    </tr>\n    <tr>\n      <th>13</th>\n      <td>132</td>\n      <td>12464</td>\n      <td>1.0</td>\n      <td>466930</td>\n      <td>3679.0</td>\n      <td>2866.0</td>\n      <td>510d47db-4921-a3d9-e040-e00a18064a99</td>\n    </tr>\n    <tr>\n      <th>14</th>\n      <td>133</td>\n      <td>12465</td>\n      <td>2.0</td>\n      <td>4000009172</td>\n      <td>3413.0</td>\n      <td>2307.0</td>\n      <td>510d47db-4922-a3d9-e040-e00a18064a99</td>\n    </tr>\n  </tbody>\n</table>\n</div>"
     },
     "execution_count": 30,
     "metadata": {},
     "output_type": "execute_result"
    }
   ],
   "source": [
    "# Get rid of rows where MenuPage(menu_id) does not exist in Menu(id)\n",
    "valid_menu_ids = set(menu_df['id'])\n",
    "menupage_df_cleaned = menupage_df[menupage_df['menu_id'].isin(valid_menu_ids)]\n",
    "\n",
    "menupage_df_cleaned.head(5)"
   ],
   "metadata": {
    "collapsed": false,
    "ExecuteTime": {
     "end_time": "2024-07-26T03:15:40.134495Z",
     "start_time": "2024-07-26T03:15:40.102014Z"
    }
   },
   "id": "28c956108b3a14d6"
  },
  {
   "cell_type": "code",
   "execution_count": 31,
   "outputs": [
    {
     "name": "stdout",
     "output_type": "stream",
     "text": [
      "(53783, 7)\n"
     ]
    }
   ],
   "source": [
    "print(menupage_df_cleaned.shape)"
   ],
   "metadata": {
    "collapsed": false,
    "ExecuteTime": {
     "end_time": "2024-07-26T03:15:40.174098Z",
     "start_time": "2024-07-26T03:15:40.130416Z"
    }
   },
   "id": "b6d2c9f37e937b20"
  },
  {
   "cell_type": "code",
   "execution_count": 32,
   "outputs": [],
   "source": [
    "menupage_df_cleaned_2 = menupage_df_cleaned[menupage_df_cleaned['page_number'].notna()]"
   ],
   "metadata": {
    "collapsed": false,
    "ExecuteTime": {
     "end_time": "2024-07-26T03:15:40.195448Z",
     "start_time": "2024-07-26T03:15:40.137935Z"
    }
   },
   "id": "6e179d872e2a982"
  },
  {
   "cell_type": "code",
   "execution_count": 33,
   "outputs": [
    {
     "name": "stdout",
     "output_type": "stream",
     "text": [
      "(52905, 7)\n"
     ]
    }
   ],
   "source": [
    "print(menupage_df_cleaned_2.shape)"
   ],
   "metadata": {
    "collapsed": false,
    "ExecuteTime": {
     "end_time": "2024-07-26T03:15:40.198536Z",
     "start_time": "2024-07-26T03:15:40.152767Z"
    }
   },
   "id": "8c57396476ad0a1a"
  },
  {
   "cell_type": "code",
   "execution_count": 34,
   "outputs": [],
   "source": "menupage_df_cleaned_2.to_csv('../Cleaned Data Files/MenuPage-cleaned.csv', index=False)",
   "metadata": {
    "collapsed": false,
    "ExecuteTime": {
     "end_time": "2024-07-26T03:15:40.408873Z",
     "start_time": "2024-07-26T03:15:40.165428Z"
    }
   },
   "id": "1c02bc3e3539de04"
  }
 ],
 "metadata": {
  "kernelspec": {
   "display_name": "Python 3",
   "language": "python",
   "name": "python3"
  },
  "language_info": {
   "codemirror_mode": {
    "name": "ipython",
    "version": 2
   },
   "file_extension": ".py",
   "mimetype": "text/x-python",
   "name": "python",
   "nbconvert_exporter": "python",
   "pygments_lexer": "ipython2",
   "version": "2.7.6"
  }
 },
 "nbformat": 4,
 "nbformat_minor": 5
}
