{
 "cells": [
  {
   "cell_type": "markdown",
   "source": [
    "# Clean MenuItem Table"
   ],
   "metadata": {
    "collapsed": false
   },
   "id": "ea1e11afca15c2e7"
  },
  {
   "cell_type": "code",
   "execution_count": 11,
   "outputs": [],
   "source": [
    "import pandas as pd"
   ],
   "metadata": {
    "collapsed": false,
    "ExecuteTime": {
     "end_time": "2024-07-25T19:36:02.689015Z",
     "start_time": "2024-07-25T19:36:02.593453Z"
    }
   },
   "id": "initial_id"
  },
  {
   "cell_type": "code",
   "execution_count": 12,
   "outputs": [],
   "source": [
    "menuitem_df = pd.read_feather(\"../Data Files/MenuItem.feather\")"
   ],
   "metadata": {
    "collapsed": false,
    "ExecuteTime": {
     "end_time": "2024-07-25T19:36:04.011259Z",
     "start_time": "2024-07-25T19:36:02.600170Z"
    }
   },
   "id": "e8c41b7a62c8b6aa"
  },
  {
   "cell_type": "code",
   "execution_count": 18,
   "outputs": [
    {
     "name": "stdout",
     "output_type": "stream",
     "text": [
      "(1332726, 9)\n"
     ]
    }
   ],
   "source": [
    "print(menuitem_df.shape)"
   ],
   "metadata": {
    "collapsed": false,
    "ExecuteTime": {
     "end_time": "2024-07-25T19:41:35.963846Z",
     "start_time": "2024-07-25T19:41:35.955079Z"
    }
   },
   "id": "a4e33e3f66f7a8fc"
  },
  {
   "cell_type": "code",
   "execution_count": 13,
   "outputs": [],
   "source": [
    "# Need to use the cleaned data from Dish table since MenuItem references Dish\n",
    "dish_df = pd.read_feather(\"../Cleaned Data Files/Dish-cleaned.feather\")"
   ],
   "metadata": {
    "collapsed": false,
    "ExecuteTime": {
     "end_time": "2024-07-25T19:36:04.113684Z",
     "start_time": "2024-07-25T19:36:04.007768Z"
    }
   },
   "id": "21cdab055dd785c0"
  },
  {
   "cell_type": "code",
   "execution_count": 19,
   "outputs": [
    {
     "data": {
      "text/plain": "   id  menu_page_id  price  high_price  dish_id               created_at  \\\n0   1          1389    0.4         NaN      1.0  2011-03-28 15:00:44 UTC   \n1   2          1389    0.6         NaN      2.0  2011-03-28 15:01:13 UTC   \n2   3          1389    0.4         NaN      3.0  2011-03-28 15:01:40 UTC   \n3   4          1389    0.5         NaN      4.0  2011-03-28 15:01:51 UTC   \n4   5          3079    0.5         1.0      5.0  2011-03-28 15:21:26 UTC   \n\n                updated_at      xpos      ypos  \n0  2011-04-19 04:33:15 UTC  0.111429  0.254735  \n1  2011-04-19 15:00:54 UTC  0.438571  0.254735  \n2  2011-04-19 19:10:05 UTC  0.140000  0.261922  \n3  2011-04-19 19:07:01 UTC  0.377143  0.262720  \n4  2011-04-13 15:25:27 UTC  0.105714  0.313178  ",
      "text/html": "<div>\n<style scoped>\n    .dataframe tbody tr th:only-of-type {\n        vertical-align: middle;\n    }\n\n    .dataframe tbody tr th {\n        vertical-align: top;\n    }\n\n    .dataframe thead th {\n        text-align: right;\n    }\n</style>\n<table border=\"1\" class=\"dataframe\">\n  <thead>\n    <tr style=\"text-align: right;\">\n      <th></th>\n      <th>id</th>\n      <th>menu_page_id</th>\n      <th>price</th>\n      <th>high_price</th>\n      <th>dish_id</th>\n      <th>created_at</th>\n      <th>updated_at</th>\n      <th>xpos</th>\n      <th>ypos</th>\n    </tr>\n  </thead>\n  <tbody>\n    <tr>\n      <th>0</th>\n      <td>1</td>\n      <td>1389</td>\n      <td>0.4</td>\n      <td>NaN</td>\n      <td>1.0</td>\n      <td>2011-03-28 15:00:44 UTC</td>\n      <td>2011-04-19 04:33:15 UTC</td>\n      <td>0.111429</td>\n      <td>0.254735</td>\n    </tr>\n    <tr>\n      <th>1</th>\n      <td>2</td>\n      <td>1389</td>\n      <td>0.6</td>\n      <td>NaN</td>\n      <td>2.0</td>\n      <td>2011-03-28 15:01:13 UTC</td>\n      <td>2011-04-19 15:00:54 UTC</td>\n      <td>0.438571</td>\n      <td>0.254735</td>\n    </tr>\n    <tr>\n      <th>2</th>\n      <td>3</td>\n      <td>1389</td>\n      <td>0.4</td>\n      <td>NaN</td>\n      <td>3.0</td>\n      <td>2011-03-28 15:01:40 UTC</td>\n      <td>2011-04-19 19:10:05 UTC</td>\n      <td>0.140000</td>\n      <td>0.261922</td>\n    </tr>\n    <tr>\n      <th>3</th>\n      <td>4</td>\n      <td>1389</td>\n      <td>0.5</td>\n      <td>NaN</td>\n      <td>4.0</td>\n      <td>2011-03-28 15:01:51 UTC</td>\n      <td>2011-04-19 19:07:01 UTC</td>\n      <td>0.377143</td>\n      <td>0.262720</td>\n    </tr>\n    <tr>\n      <th>4</th>\n      <td>5</td>\n      <td>3079</td>\n      <td>0.5</td>\n      <td>1.0</td>\n      <td>5.0</td>\n      <td>2011-03-28 15:21:26 UTC</td>\n      <td>2011-04-13 15:25:27 UTC</td>\n      <td>0.105714</td>\n      <td>0.313178</td>\n    </tr>\n  </tbody>\n</table>\n</div>"
     },
     "execution_count": 19,
     "metadata": {},
     "output_type": "execute_result"
    }
   ],
   "source": [
    "# Get rid of rows where MenuItem(dish_id) does not exist in the cleaned Dish(id)\n",
    "valid_dish_ids = set(dish_df['id'])\n",
    "menuitem_df_cleaned = menuitem_df[menuitem_df['dish_id'].isin(valid_dish_ids)]\n",
    "\n",
    "menuitem_df_cleaned.head(5)"
   ],
   "metadata": {
    "collapsed": false,
    "ExecuteTime": {
     "end_time": "2024-07-25T20:49:05.307552Z",
     "start_time": "2024-07-25T20:49:04.178842Z"
    }
   },
   "id": "74da7a5aa09445d9"
  },
  {
   "cell_type": "code",
   "execution_count": 20,
   "outputs": [
    {
     "name": "stdout",
     "output_type": "stream",
     "text": [
      "(1148369, 9)\n"
     ]
    }
   ],
   "source": [
    "print(menuitem_df_cleaned.shape)"
   ],
   "metadata": {
    "collapsed": false,
    "ExecuteTime": {
     "end_time": "2024-07-25T20:49:07.031148Z",
     "start_time": "2024-07-25T20:49:06.998761Z"
    }
   },
   "id": "64c07b083c520a29"
  },
  {
   "cell_type": "code",
   "execution_count": 22,
   "outputs": [],
   "source": [
    "# Need to use the cleaned data from MenuPage table since MenuItem references MenuPage\n",
    "menupage_df = pd.read_feather(\"../Cleaned Data Files/MenuPage-cleaned.feather\")"
   ],
   "metadata": {
    "collapsed": false,
    "ExecuteTime": {
     "end_time": "2024-07-25T20:53:13.289975Z",
     "start_time": "2024-07-25T20:53:13.229017Z"
    }
   },
   "id": "fff385a010470c99"
  },
  {
   "cell_type": "code",
   "execution_count": 23,
   "outputs": [
    {
     "data": {
      "text/plain": "   id  menu_page_id  price  high_price  dish_id               created_at  \\\n0   1          1389    0.4         NaN      1.0  2011-03-28 15:00:44 UTC   \n1   2          1389    0.6         NaN      2.0  2011-03-28 15:01:13 UTC   \n2   3          1389    0.4         NaN      3.0  2011-03-28 15:01:40 UTC   \n3   4          1389    0.5         NaN      4.0  2011-03-28 15:01:51 UTC   \n4   5          3079    0.5         1.0      5.0  2011-03-28 15:21:26 UTC   \n\n                updated_at      xpos      ypos  \n0  2011-04-19 04:33:15 UTC  0.111429  0.254735  \n1  2011-04-19 15:00:54 UTC  0.438571  0.254735  \n2  2011-04-19 19:10:05 UTC  0.140000  0.261922  \n3  2011-04-19 19:07:01 UTC  0.377143  0.262720  \n4  2011-04-13 15:25:27 UTC  0.105714  0.313178  ",
      "text/html": "<div>\n<style scoped>\n    .dataframe tbody tr th:only-of-type {\n        vertical-align: middle;\n    }\n\n    .dataframe tbody tr th {\n        vertical-align: top;\n    }\n\n    .dataframe thead th {\n        text-align: right;\n    }\n</style>\n<table border=\"1\" class=\"dataframe\">\n  <thead>\n    <tr style=\"text-align: right;\">\n      <th></th>\n      <th>id</th>\n      <th>menu_page_id</th>\n      <th>price</th>\n      <th>high_price</th>\n      <th>dish_id</th>\n      <th>created_at</th>\n      <th>updated_at</th>\n      <th>xpos</th>\n      <th>ypos</th>\n    </tr>\n  </thead>\n  <tbody>\n    <tr>\n      <th>0</th>\n      <td>1</td>\n      <td>1389</td>\n      <td>0.4</td>\n      <td>NaN</td>\n      <td>1.0</td>\n      <td>2011-03-28 15:00:44 UTC</td>\n      <td>2011-04-19 04:33:15 UTC</td>\n      <td>0.111429</td>\n      <td>0.254735</td>\n    </tr>\n    <tr>\n      <th>1</th>\n      <td>2</td>\n      <td>1389</td>\n      <td>0.6</td>\n      <td>NaN</td>\n      <td>2.0</td>\n      <td>2011-03-28 15:01:13 UTC</td>\n      <td>2011-04-19 15:00:54 UTC</td>\n      <td>0.438571</td>\n      <td>0.254735</td>\n    </tr>\n    <tr>\n      <th>2</th>\n      <td>3</td>\n      <td>1389</td>\n      <td>0.4</td>\n      <td>NaN</td>\n      <td>3.0</td>\n      <td>2011-03-28 15:01:40 UTC</td>\n      <td>2011-04-19 19:10:05 UTC</td>\n      <td>0.140000</td>\n      <td>0.261922</td>\n    </tr>\n    <tr>\n      <th>3</th>\n      <td>4</td>\n      <td>1389</td>\n      <td>0.5</td>\n      <td>NaN</td>\n      <td>4.0</td>\n      <td>2011-03-28 15:01:51 UTC</td>\n      <td>2011-04-19 19:07:01 UTC</td>\n      <td>0.377143</td>\n      <td>0.262720</td>\n    </tr>\n    <tr>\n      <th>4</th>\n      <td>5</td>\n      <td>3079</td>\n      <td>0.5</td>\n      <td>1.0</td>\n      <td>5.0</td>\n      <td>2011-03-28 15:21:26 UTC</td>\n      <td>2011-04-13 15:25:27 UTC</td>\n      <td>0.105714</td>\n      <td>0.313178</td>\n    </tr>\n  </tbody>\n</table>\n</div>"
     },
     "execution_count": 23,
     "metadata": {},
     "output_type": "execute_result"
    }
   ],
   "source": [
    "# Get rid of rows where MenuItem(menu_page_id) does not exist in the cleaned MenuPage(id)\n",
    "valid_menupage_ids = set(menupage_df['id'])\n",
    "menuitem_df_cleaned_2 = menuitem_df_cleaned[menuitem_df_cleaned['menu_page_id'].isin(valid_menupage_ids)]\n",
    "\n",
    "menuitem_df_cleaned_2.head(5)"
   ],
   "metadata": {
    "collapsed": false,
    "ExecuteTime": {
     "end_time": "2024-07-25T20:53:14.402617Z",
     "start_time": "2024-07-25T20:53:14.187238Z"
    }
   },
   "id": "8d69df7057712ed6"
  },
  {
   "cell_type": "code",
   "execution_count": 24,
   "outputs": [
    {
     "name": "stdout",
     "output_type": "stream",
     "text": [
      "(1038119, 9)\n"
     ]
    }
   ],
   "source": [
    "print(menuitem_df_cleaned_2.shape)"
   ],
   "metadata": {
    "collapsed": false,
    "ExecuteTime": {
     "end_time": "2024-07-25T20:53:15.750236Z",
     "start_time": "2024-07-25T20:53:15.719380Z"
    }
   },
   "id": "2a82dc46f545e892"
  },
  {
   "cell_type": "code",
   "execution_count": 25,
   "outputs": [],
   "source": [
    "menuitem_df_cleaned_2.to_csv('../Cleaned Data Files/MenuItem-cleaned.csv', index=False)"
   ],
   "metadata": {
    "collapsed": false,
    "ExecuteTime": {
     "end_time": "2024-07-25T20:53:27.852511Z",
     "start_time": "2024-07-25T20:53:22.622281Z"
    }
   },
   "id": "9553d8217b63cafe"
  }
 ],
 "metadata": {
  "kernelspec": {
   "display_name": "Python 3",
   "language": "python",
   "name": "python3"
  },
  "language_info": {
   "codemirror_mode": {
    "name": "ipython",
    "version": 2
   },
   "file_extension": ".py",
   "mimetype": "text/x-python",
   "name": "python",
   "nbconvert_exporter": "python",
   "pygments_lexer": "ipython2",
   "version": "2.7.6"
  }
 },
 "nbformat": 4,
 "nbformat_minor": 5
}
